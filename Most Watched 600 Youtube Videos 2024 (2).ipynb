{
 "cells": [
  {
   "cell_type": "markdown",
   "id": "6628a4ae",
   "metadata": {},
   "source": [
    "\n",
    "<center><h1>📍 📍 Most Watched 600 Youtube Videos 2024 Project 📍 📍</h1></center>\n"
   ]
  },
  {
   "cell_type": "markdown",
   "id": "97b969e9",
   "metadata": {},
   "source": [
    "# About Dataset\n",
    "##Overview\n",
    "This curated collection encompasses 598 of the most engaging and widely viewed YouTube \n",
    "videos from the early months of 2024, capturing a diverse snapshot of digital culture and trends. \n",
    "- This dataset not only reflects the dynamic landscape of online content but also serves as a lens \n",
    "through which to explore the intricacies of viewer engagement and content popularity on a global \n",
    "scale.\n"
   ]
  },
  {
   "cell_type": "markdown",
   "id": "2c48cee1",
   "metadata": {},
   "source": [
    "# Predictive Modeling:\n",
    "Use engagement metrics to predict future trends or the potential \n",
    "virality of content types"
   ]
  },
  {
   "cell_type": "markdown",
   "id": "51c6e3fa",
   "metadata": {},
   "source": [
    "## Data Dictionary\n",
    "The dataset comprises the following columns, each offering unique insights:\n",
    "- **Title**:-  The video's title, providing a glimpse into the content and themes.\n",
    "- **Published At:** - Timestamp indicating the video's release date, useful for temporal \n",
    "analysis.\n",
    "- **Duration:** - The length of the video, offering context on content depth and viewer \n",
    "commitment.\n",
    "- **View Count:**- The total number of views, a direct metric of popularity and reach.\n",
    "- **Like Count:** - Reflecting viewer approval and engagement.\n",
    "- **Comment Count:** - Indicative of viewer interaction and discussion sparked by the video."
   ]
  },
  {
   "cell_type": "markdown",
   "id": "a4818c72",
   "metadata": {},
   "source": [
    "# Basic work "
   ]
  },
  {
   "cell_type": "markdown",
   "id": "cfc7f2c7",
   "metadata": {},
   "source": [
    "### Load Libraries"
   ]
  },
  {
   "cell_type": "code",
   "execution_count": 1,
   "id": "21aceaa7",
   "metadata": {},
   "outputs": [],
   "source": [
    "# Importing the neccessary libraries\n",
    "import pandas as pd\n",
    "import numpy as np\n",
    "import matplotlib.pyplot as plt\n",
    "import seaborn as sns\n",
    "import datetime as dt\n",
    "%matplotlib inline "
   ]
  },
  {
   "cell_type": "markdown",
   "id": "1a8dd497",
   "metadata": {},
   "source": [
    "### Importing the data"
   ]
  },
  {
   "cell_type": "code",
   "execution_count": 2,
   "id": "87f58bea",
   "metadata": {},
   "outputs": [],
   "source": [
    "#Reading the data set\n",
    "data=pd.read_csv('most_watched_600_youtube_videos_2024.csv')"
   ]
  },
  {
   "cell_type": "code",
   "execution_count": 3,
   "id": "88493154",
   "metadata": {},
   "outputs": [
    {
     "data": {
      "text/html": [
       "<div>\n",
       "<style scoped>\n",
       "    .dataframe tbody tr th:only-of-type {\n",
       "        vertical-align: middle;\n",
       "    }\n",
       "\n",
       "    .dataframe tbody tr th {\n",
       "        vertical-align: top;\n",
       "    }\n",
       "\n",
       "    .dataframe thead th {\n",
       "        text-align: right;\n",
       "    }\n",
       "</style>\n",
       "<table border=\"1\" class=\"dataframe\">\n",
       "  <thead>\n",
       "    <tr style=\"text-align: right;\">\n",
       "      <th></th>\n",
       "      <th>title</th>\n",
       "      <th>published_at</th>\n",
       "      <th>duration</th>\n",
       "      <th>view_count</th>\n",
       "      <th>like_count</th>\n",
       "      <th>comment_count</th>\n",
       "    </tr>\n",
       "  </thead>\n",
       "  <tbody>\n",
       "    <tr>\n",
       "      <th>0</th>\n",
       "      <td>Se Libró del ATAQUE de un Cocodrilo ❌🐊</td>\n",
       "      <td>2024-01-27T19:16:13Z</td>\n",
       "      <td>PT25S</td>\n",
       "      <td>39972377</td>\n",
       "      <td>1143891.0</td>\n",
       "      <td>8254.0</td>\n",
       "    </tr>\n",
       "    <tr>\n",
       "      <th>1</th>\n",
       "      <td>#Sareedrapping#pregnancydrapping#babyshower#sh...</td>\n",
       "      <td>2024-02-11T14:43:07Z</td>\n",
       "      <td>PT37S</td>\n",
       "      <td>37983493</td>\n",
       "      <td>1239925.0</td>\n",
       "      <td>2823.0</td>\n",
       "    </tr>\n",
       "    <tr>\n",
       "      <th>2</th>\n",
       "      <td>Majburi Insaan Se Kuch Bhi Karva Deti Hai | PA...</td>\n",
       "      <td>2024-01-24T05:17:00Z</td>\n",
       "      <td>PT1M1S</td>\n",
       "      <td>29605580</td>\n",
       "      <td>938530.0</td>\n",
       "      <td>691.0</td>\n",
       "    </tr>\n",
       "    <tr>\n",
       "      <th>3</th>\n",
       "      <td>Tom 🍓 Jerry (Soumya&amp;Ammu)Real End Twist😍🎈 #sho...</td>\n",
       "      <td>2024-01-17T14:14:43Z</td>\n",
       "      <td>PT58S</td>\n",
       "      <td>22825107</td>\n",
       "      <td>438667.0</td>\n",
       "      <td>241.0</td>\n",
       "    </tr>\n",
       "    <tr>\n",
       "      <th>4</th>\n",
       "      <td>The success of people depends on their life co...</td>\n",
       "      <td>2024-01-24T09:00:30Z</td>\n",
       "      <td>PT56S</td>\n",
       "      <td>21029074</td>\n",
       "      <td>348898.0</td>\n",
       "      <td>1500.0</td>\n",
       "    </tr>\n",
       "    <tr>\n",
       "      <th>5</th>\n",
       "      <td>ARE YOU NORMAL OR …? #shorts</td>\n",
       "      <td>2024-02-08T21:07:37Z</td>\n",
       "      <td>PT1M1S</td>\n",
       "      <td>17993330</td>\n",
       "      <td>1269873.0</td>\n",
       "      <td>7280.0</td>\n",
       "    </tr>\n",
       "  </tbody>\n",
       "</table>\n",
       "</div>"
      ],
      "text/plain": [
       "                                               title          published_at  \\\n",
       "0             Se Libró del ATAQUE de un Cocodrilo ❌🐊  2024-01-27T19:16:13Z   \n",
       "1  #Sareedrapping#pregnancydrapping#babyshower#sh...  2024-02-11T14:43:07Z   \n",
       "2  Majburi Insaan Se Kuch Bhi Karva Deti Hai | PA...  2024-01-24T05:17:00Z   \n",
       "3  Tom 🍓 Jerry (Soumya&Ammu)Real End Twist😍🎈 #sho...  2024-01-17T14:14:43Z   \n",
       "4  The success of people depends on their life co...  2024-01-24T09:00:30Z   \n",
       "5                       ARE YOU NORMAL OR …? #shorts  2024-02-08T21:07:37Z   \n",
       "\n",
       "  duration  view_count  like_count  comment_count  \n",
       "0    PT25S    39972377   1143891.0         8254.0  \n",
       "1    PT37S    37983493   1239925.0         2823.0  \n",
       "2   PT1M1S    29605580    938530.0          691.0  \n",
       "3    PT58S    22825107    438667.0          241.0  \n",
       "4    PT56S    21029074    348898.0         1500.0  \n",
       "5   PT1M1S    17993330   1269873.0         7280.0  "
      ]
     },
     "execution_count": 3,
     "metadata": {},
     "output_type": "execute_result"
    }
   ],
   "source": [
    "# Display the first few rows of the dataframe\n",
    "data.head(6)"
   ]
  },
  {
   "cell_type": "code",
   "execution_count": 4,
   "id": "7882e3c3",
   "metadata": {},
   "outputs": [
    {
     "data": {
      "text/html": [
       "<div>\n",
       "<style scoped>\n",
       "    .dataframe tbody tr th:only-of-type {\n",
       "        vertical-align: middle;\n",
       "    }\n",
       "\n",
       "    .dataframe tbody tr th {\n",
       "        vertical-align: top;\n",
       "    }\n",
       "\n",
       "    .dataframe thead th {\n",
       "        text-align: right;\n",
       "    }\n",
       "</style>\n",
       "<table border=\"1\" class=\"dataframe\">\n",
       "  <thead>\n",
       "    <tr style=\"text-align: right;\">\n",
       "      <th></th>\n",
       "      <th>title</th>\n",
       "      <th>published_at</th>\n",
       "      <th>duration</th>\n",
       "      <th>view_count</th>\n",
       "      <th>like_count</th>\n",
       "      <th>comment_count</th>\n",
       "    </tr>\n",
       "  </thead>\n",
       "  <tbody>\n",
       "    <tr>\n",
       "      <th>593</th>\n",
       "      <td>కేసీఆర్ ఏం చేయబోతున్నడు..ముందే చెప్పేసిన మల్లన...</td>\n",
       "      <td>2024-02-20T06:23:10Z</td>\n",
       "      <td>PT7M14S</td>\n",
       "      <td>109855</td>\n",
       "      <td>1969.0</td>\n",
       "      <td>257.0</td>\n",
       "    </tr>\n",
       "    <tr>\n",
       "      <th>594</th>\n",
       "      <td>The BEST feeling in the World!! I know I’ll mi...</td>\n",
       "      <td>2024-02-19T18:12:55Z</td>\n",
       "      <td>PT7S</td>\n",
       "      <td>54557</td>\n",
       "      <td>4659.0</td>\n",
       "      <td>132.0</td>\n",
       "    </tr>\n",
       "    <tr>\n",
       "      <th>595</th>\n",
       "      <td>Chinese burger with chicken and bamboo shoots ...</td>\n",
       "      <td>2024-02-20T03:16:24Z</td>\n",
       "      <td>PT59S</td>\n",
       "      <td>63345</td>\n",
       "      <td>7631.0</td>\n",
       "      <td>110.0</td>\n",
       "    </tr>\n",
       "    <tr>\n",
       "      <th>596</th>\n",
       "      <td>АЛЁНА, БЛИН про Ксению Собчак и Дину Саеву /  ...</td>\n",
       "      <td>2024-02-19T20:04:58Z</td>\n",
       "      <td>PT58S</td>\n",
       "      <td>52786</td>\n",
       "      <td>1549.0</td>\n",
       "      <td>33.0</td>\n",
       "    </tr>\n",
       "    <tr>\n",
       "      <th>597</th>\n",
       "      <td>Week 15 living off homegrown and wild food! 🙂 ...</td>\n",
       "      <td>2024-02-19T17:04:55Z</td>\n",
       "      <td>PT58S</td>\n",
       "      <td>49143</td>\n",
       "      <td>6287.0</td>\n",
       "      <td>64.0</td>\n",
       "    </tr>\n",
       "  </tbody>\n",
       "</table>\n",
       "</div>"
      ],
      "text/plain": [
       "                                                 title          published_at  \\\n",
       "593  కేసీఆర్ ఏం చేయబోతున్నడు..ముందే చెప్పేసిన మల్లన...  2024-02-20T06:23:10Z   \n",
       "594  The BEST feeling in the World!! I know I’ll mi...  2024-02-19T18:12:55Z   \n",
       "595  Chinese burger with chicken and bamboo shoots ...  2024-02-20T03:16:24Z   \n",
       "596  АЛЁНА, БЛИН про Ксению Собчак и Дину Саеву /  ...  2024-02-19T20:04:58Z   \n",
       "597  Week 15 living off homegrown and wild food! 🙂 ...  2024-02-19T17:04:55Z   \n",
       "\n",
       "    duration  view_count  like_count  comment_count  \n",
       "593  PT7M14S      109855      1969.0          257.0  \n",
       "594     PT7S       54557      4659.0          132.0  \n",
       "595    PT59S       63345      7631.0          110.0  \n",
       "596    PT58S       52786      1549.0           33.0  \n",
       "597    PT58S       49143      6287.0           64.0  "
      ]
     },
     "execution_count": 4,
     "metadata": {},
     "output_type": "execute_result"
    }
   ],
   "source": [
    "data.tail()"
   ]
  },
  {
   "cell_type": "markdown",
   "id": "710133d5",
   "metadata": {
    "scrolled": true
   },
   "source": [
    "### File Structure and Content"
   ]
  },
  {
   "cell_type": "code",
   "execution_count": 5,
   "id": "464afd87",
   "metadata": {},
   "outputs": [
    {
     "name": "stdout",
     "output_type": "stream",
     "text": [
      " We have 598 Rows.\n",
      " We have 6 Columns.\n"
     ]
    }
   ],
   "source": [
    "print(' We have {} Rows.'.format(data.shape[0]))\n",
    "print(' We have {} Columns.'.format(data.shape[1]))"
   ]
  },
  {
   "cell_type": "code",
   "execution_count": 6,
   "id": "4ec9dfd0",
   "metadata": {},
   "outputs": [
    {
     "data": {
      "text/html": [
       "<div>\n",
       "<style scoped>\n",
       "    .dataframe tbody tr th:only-of-type {\n",
       "        vertical-align: middle;\n",
       "    }\n",
       "\n",
       "    .dataframe tbody tr th {\n",
       "        vertical-align: top;\n",
       "    }\n",
       "\n",
       "    .dataframe thead th {\n",
       "        text-align: right;\n",
       "    }\n",
       "</style>\n",
       "<table border=\"1\" class=\"dataframe\">\n",
       "  <thead>\n",
       "    <tr style=\"text-align: right;\">\n",
       "      <th></th>\n",
       "      <th>view_count</th>\n",
       "      <th>like_count</th>\n",
       "      <th>comment_count</th>\n",
       "    </tr>\n",
       "  </thead>\n",
       "  <tbody>\n",
       "    <tr>\n",
       "      <th>count</th>\n",
       "      <td>5.980000e+02</td>\n",
       "      <td>5.850000e+02</td>\n",
       "      <td>588.000000</td>\n",
       "    </tr>\n",
       "    <tr>\n",
       "      <th>mean</th>\n",
       "      <td>1.888822e+06</td>\n",
       "      <td>6.561655e+04</td>\n",
       "      <td>606.583333</td>\n",
       "    </tr>\n",
       "    <tr>\n",
       "      <th>std</th>\n",
       "      <td>3.953096e+06</td>\n",
       "      <td>1.430048e+05</td>\n",
       "      <td>1389.562006</td>\n",
       "    </tr>\n",
       "    <tr>\n",
       "      <th>min</th>\n",
       "      <td>4.914300e+04</td>\n",
       "      <td>4.700000e+01</td>\n",
       "      <td>0.000000</td>\n",
       "    </tr>\n",
       "    <tr>\n",
       "      <th>25%</th>\n",
       "      <td>1.757130e+05</td>\n",
       "      <td>6.690000e+03</td>\n",
       "      <td>65.000000</td>\n",
       "    </tr>\n",
       "    <tr>\n",
       "      <th>50%</th>\n",
       "      <td>5.476450e+05</td>\n",
       "      <td>1.629800e+04</td>\n",
       "      <td>181.500000</td>\n",
       "    </tr>\n",
       "    <tr>\n",
       "      <th>75%</th>\n",
       "      <td>1.009198e+06</td>\n",
       "      <td>5.467300e+04</td>\n",
       "      <td>492.500000</td>\n",
       "    </tr>\n",
       "    <tr>\n",
       "      <th>max</th>\n",
       "      <td>3.997238e+07</td>\n",
       "      <td>1.269873e+06</td>\n",
       "      <td>11924.000000</td>\n",
       "    </tr>\n",
       "  </tbody>\n",
       "</table>\n",
       "</div>"
      ],
      "text/plain": [
       "         view_count    like_count  comment_count\n",
       "count  5.980000e+02  5.850000e+02     588.000000\n",
       "mean   1.888822e+06  6.561655e+04     606.583333\n",
       "std    3.953096e+06  1.430048e+05    1389.562006\n",
       "min    4.914300e+04  4.700000e+01       0.000000\n",
       "25%    1.757130e+05  6.690000e+03      65.000000\n",
       "50%    5.476450e+05  1.629800e+04     181.500000\n",
       "75%    1.009198e+06  5.467300e+04     492.500000\n",
       "max    3.997238e+07  1.269873e+06   11924.000000"
      ]
     },
     "execution_count": 6,
     "metadata": {},
     "output_type": "execute_result"
    }
   ],
   "source": [
    "# Summary statistics\n",
    "data.describe()"
   ]
  },
  {
   "cell_type": "markdown",
   "id": "85c666e7",
   "metadata": {},
   "source": [
    "# Exploratory Data Analysis [ EDA]"
   ]
  },
  {
   "cell_type": "markdown",
   "id": "f8ff030e",
   "metadata": {},
   "source": [
    "# Variable Identification"
   ]
  },
  {
   "cell_type": "code",
   "execution_count": 7,
   "id": "5f86dd87",
   "metadata": {
    "scrolled": true
   },
   "outputs": [
    {
     "name": "stdout",
     "output_type": "stream",
     "text": [
      "<class 'pandas.core.frame.DataFrame'>\n",
      "RangeIndex: 598 entries, 0 to 597\n",
      "Data columns (total 6 columns):\n",
      " #   Column         Non-Null Count  Dtype  \n",
      "---  ------         --------------  -----  \n",
      " 0   title          598 non-null    object \n",
      " 1   published_at   598 non-null    object \n",
      " 2   duration       598 non-null    object \n",
      " 3   view_count     598 non-null    int64  \n",
      " 4   like_count     585 non-null    float64\n",
      " 5   comment_count  588 non-null    float64\n",
      "dtypes: float64(2), int64(1), object(3)\n",
      "memory usage: 28.2+ KB\n"
     ]
    }
   ],
   "source": [
    "# Varaible Identification means if you want more information\n",
    "data.info()"
   ]
  },
  {
   "cell_type": "code",
   "execution_count": 8,
   "id": "8972b559",
   "metadata": {},
   "outputs": [
    {
     "data": {
      "text/plain": [
       "title             object\n",
       "published_at      object\n",
       "duration          object\n",
       "view_count         int64\n",
       "like_count       float64\n",
       "comment_count    float64\n",
       "dtype: object"
      ]
     },
     "execution_count": 8,
     "metadata": {},
     "output_type": "execute_result"
    }
   ],
   "source": [
    "# Checkoing the datatypes \n",
    "data.dtypes"
   ]
  },
  {
   "cell_type": "markdown",
   "id": "cc3347e5",
   "metadata": {},
   "source": [
    "### Integer  Data Type"
   ]
  },
  {
   "cell_type": "code",
   "execution_count": 9,
   "id": "a72c5dcf",
   "metadata": {},
   "outputs": [
    {
     "data": {
      "text/plain": [
       "view_count    int64\n",
       "dtype: object"
      ]
     },
     "execution_count": 9,
     "metadata": {},
     "output_type": "execute_result"
    }
   ],
   "source": [
    "# identifiaction int data tpye\n",
    "data.dtypes[data.dtypes == 'int64']"
   ]
  },
  {
   "cell_type": "markdown",
   "id": "d162fb2e",
   "metadata": {},
   "source": [
    "### Float Data Type"
   ]
  },
  {
   "cell_type": "code",
   "execution_count": 10,
   "id": "82f4ee43",
   "metadata": {},
   "outputs": [
    {
     "data": {
      "text/plain": [
       "like_count       float64\n",
       "comment_count    float64\n",
       "dtype: object"
      ]
     },
     "execution_count": 10,
     "metadata": {},
     "output_type": "execute_result"
    }
   ],
   "source": [
    "# identifiaction int data tpye\n",
    "\n",
    "data.dtypes[data.dtypes == 'float64']"
   ]
  },
  {
   "cell_type": "markdown",
   "id": "29c0fb7f",
   "metadata": {},
   "source": [
    "### Object Data Type"
   ]
  },
  {
   "cell_type": "code",
   "execution_count": 11,
   "id": "cfda8fba",
   "metadata": {
    "scrolled": false
   },
   "outputs": [
    {
     "data": {
      "text/plain": [
       "title           object\n",
       "published_at    object\n",
       "duration        object\n",
       "dtype: object"
      ]
     },
     "execution_count": 11,
     "metadata": {},
     "output_type": "execute_result"
    }
   ],
   "source": [
    "# identifiaction int data tpye\n",
    "\n",
    "data.dtypes[data.dtypes == 'object']"
   ]
  },
  {
   "cell_type": "code",
   "execution_count": 12,
   "id": "57603d2b",
   "metadata": {},
   "outputs": [],
   "source": [
    "# Separating the Categorical Variables \n",
    "Categorical_cols = ['title', 'published_at', 'duration']"
   ]
  },
  {
   "cell_type": "code",
   "execution_count": 13,
   "id": "8d1ad931",
   "metadata": {},
   "outputs": [
    {
     "data": {
      "text/plain": [
       "title           479\n",
       "published_at    478\n",
       "duration        191\n",
       "dtype: int64"
      ]
     },
     "execution_count": 13,
     "metadata": {},
     "output_type": "execute_result"
    }
   ],
   "source": [
    "# Number of Unique values\n",
    "data[Categorical_cols].nunique()"
   ]
  },
  {
   "cell_type": "code",
   "execution_count": 14,
   "id": "dc1c6d9e",
   "metadata": {},
   "outputs": [
    {
     "data": {
      "text/plain": [
       "title                         object\n",
       "published_at     datetime64[ns, UTC]\n",
       "duration                      object\n",
       "view_count                     int64\n",
       "like_count                   float64\n",
       "comment_count                float64\n",
       "dtype: object"
      ]
     },
     "execution_count": 14,
     "metadata": {},
     "output_type": "execute_result"
    }
   ],
   "source": [
    "# Convert 'published_at' column to Timestamp\n",
    "data['published_at'] = pd.to_datetime(data['published_at'])\n",
    "\n",
    "data.dtypes"
   ]
  },
  {
   "cell_type": "code",
   "execution_count": 15,
   "id": "d1fac754",
   "metadata": {},
   "outputs": [
    {
     "name": "stdout",
     "output_type": "stream",
     "text": [
      "                                               title  title_encoded\n",
      "0             Se Libró del ATAQUE de un Cocodrilo ❌🐊            276\n",
      "1  #Sareedrapping#pregnancydrapping#babyshower#sh...             11\n",
      "2  Majburi Insaan Se Kuch Bhi Karva Deti Hai | PA...            197\n",
      "3  Tom 🍓 Jerry (Soumya&Ammu)Real End Twist😍🎈 #sho...            314\n",
      "4  The success of people depends on their life co...            307\n"
     ]
    }
   ],
   "source": [
    "from sklearn.preprocessing import LabelEncoder\n",
    "\n",
    "# Instantiate LabelEncoder\n",
    "label_encoder = LabelEncoder()\n",
    "\n",
    "# Fit and transform the 'title' column\n",
    "data['title_encoded'] = label_encoder.fit_transform(data['title'])\n",
    "\n",
    "# Display the encoded titles\n",
    "print(data[['title', 'title_encoded']].head())\n"
   ]
  },
  {
   "cell_type": "markdown",
   "id": "6a7157e4",
   "metadata": {},
   "source": [
    "# Handling Missing Value  "
   ]
  },
  {
   "cell_type": "code",
   "execution_count": 16,
   "id": "a5324baa",
   "metadata": {},
   "outputs": [
    {
     "data": {
      "text/plain": [
       "title             0\n",
       "published_at      0\n",
       "duration          0\n",
       "view_count        0\n",
       "like_count       13\n",
       "comment_count    10\n",
       "title_encoded     0\n",
       "dtype: int64"
      ]
     },
     "execution_count": 16,
     "metadata": {},
     "output_type": "execute_result"
    }
   ],
   "source": [
    "# Check for missing values\n",
    "data.isna().sum()"
   ]
  },
  {
   "cell_type": "code",
   "execution_count": 17,
   "id": "fb0f3691",
   "metadata": {},
   "outputs": [
    {
     "name": "stdout",
     "output_type": "stream",
     "text": [
      "title            0\n",
      "published_at     0\n",
      "duration         0\n",
      "view_count       0\n",
      "like_count       0\n",
      "comment_count    0\n",
      "title_encoded    0\n",
      "dtype: int64\n"
     ]
    }
   ],
   "source": [
    "# imputing the missing Vaklues Using Impute function\n",
    "from sklearn.impute import SimpleImputer\n",
    "imputer = SimpleImputer(strategy='mean')\n",
    "data[['view_count', 'like_count', 'comment_count']] = imputer.fit_transform(data[['view_count', 'like_count', 'comment_count']])\n",
    "\n",
    "# Verify that missing values have been imputed\n",
    "missing_values_imputed = data.isnull().sum()\n",
    "print(missing_values_imputed)"
   ]
  },
  {
   "cell_type": "code",
   "execution_count": 18,
   "id": "bce19383",
   "metadata": {},
   "outputs": [
    {
     "data": {
      "text/html": [
       "<div>\n",
       "<style scoped>\n",
       "    .dataframe tbody tr th:only-of-type {\n",
       "        vertical-align: middle;\n",
       "    }\n",
       "\n",
       "    .dataframe tbody tr th {\n",
       "        vertical-align: top;\n",
       "    }\n",
       "\n",
       "    .dataframe thead th {\n",
       "        text-align: right;\n",
       "    }\n",
       "</style>\n",
       "<table border=\"1\" class=\"dataframe\">\n",
       "  <thead>\n",
       "    <tr style=\"text-align: right;\">\n",
       "      <th></th>\n",
       "      <th>title</th>\n",
       "      <th>published_at</th>\n",
       "      <th>duration</th>\n",
       "      <th>view_count</th>\n",
       "      <th>like_count</th>\n",
       "      <th>comment_count</th>\n",
       "      <th>title_encoded</th>\n",
       "    </tr>\n",
       "  </thead>\n",
       "  <tbody>\n",
       "    <tr>\n",
       "      <th>0</th>\n",
       "      <td>Se Libró del ATAQUE de un Cocodrilo ❌🐊</td>\n",
       "      <td>2024-01-27 19:16:13+00:00</td>\n",
       "      <td>PT25S</td>\n",
       "      <td>39972377.0</td>\n",
       "      <td>1.143891e+06</td>\n",
       "      <td>8254.0</td>\n",
       "      <td>276</td>\n",
       "    </tr>\n",
       "    <tr>\n",
       "      <th>1</th>\n",
       "      <td>#Sareedrapping#pregnancydrapping#babyshower#sh...</td>\n",
       "      <td>2024-02-11 14:43:07+00:00</td>\n",
       "      <td>PT37S</td>\n",
       "      <td>37983493.0</td>\n",
       "      <td>1.239925e+06</td>\n",
       "      <td>2823.0</td>\n",
       "      <td>11</td>\n",
       "    </tr>\n",
       "    <tr>\n",
       "      <th>2</th>\n",
       "      <td>Majburi Insaan Se Kuch Bhi Karva Deti Hai | PA...</td>\n",
       "      <td>2024-01-24 05:17:00+00:00</td>\n",
       "      <td>PT1M1S</td>\n",
       "      <td>29605580.0</td>\n",
       "      <td>9.385300e+05</td>\n",
       "      <td>691.0</td>\n",
       "      <td>197</td>\n",
       "    </tr>\n",
       "    <tr>\n",
       "      <th>3</th>\n",
       "      <td>Tom 🍓 Jerry (Soumya&amp;Ammu)Real End Twist😍🎈 #sho...</td>\n",
       "      <td>2024-01-17 14:14:43+00:00</td>\n",
       "      <td>PT58S</td>\n",
       "      <td>22825107.0</td>\n",
       "      <td>4.386670e+05</td>\n",
       "      <td>241.0</td>\n",
       "      <td>314</td>\n",
       "    </tr>\n",
       "    <tr>\n",
       "      <th>4</th>\n",
       "      <td>The success of people depends on their life co...</td>\n",
       "      <td>2024-01-24 09:00:30+00:00</td>\n",
       "      <td>PT56S</td>\n",
       "      <td>21029074.0</td>\n",
       "      <td>3.488980e+05</td>\n",
       "      <td>1500.0</td>\n",
       "      <td>307</td>\n",
       "    </tr>\n",
       "    <tr>\n",
       "      <th>5</th>\n",
       "      <td>ARE YOU NORMAL OR …? #shorts</td>\n",
       "      <td>2024-02-08 21:07:37+00:00</td>\n",
       "      <td>PT1M1S</td>\n",
       "      <td>17993330.0</td>\n",
       "      <td>1.269873e+06</td>\n",
       "      <td>7280.0</td>\n",
       "      <td>27</td>\n",
       "    </tr>\n",
       "    <tr>\n",
       "      <th>6</th>\n",
       "      <td>Süper ❤️ Smart family 🤣💕🎥 #shorts</td>\n",
       "      <td>2024-02-10 10:12:45+00:00</td>\n",
       "      <td>PT57S</td>\n",
       "      <td>18027624.0</td>\n",
       "      <td>2.861900e+05</td>\n",
       "      <td>442.0</td>\n",
       "      <td>295</td>\n",
       "    </tr>\n",
       "    <tr>\n",
       "      <th>7</th>\n",
       "      <td>Bro didn't even hesitate 🥶 #shorts #sidemen #v...</td>\n",
       "      <td>2024-01-30 19:00:18+00:00</td>\n",
       "      <td>PT22S</td>\n",
       "      <td>17421206.0</td>\n",
       "      <td>1.013966e+06</td>\n",
       "      <td>2256.0</td>\n",
       "      <td>61</td>\n",
       "    </tr>\n",
       "    <tr>\n",
       "      <th>8</th>\n",
       "      <td>CHAD WEIGHT IS FIX 🗿 #mrbombastic #shorts</td>\n",
       "      <td>2024-01-20 12:00:41+00:00</td>\n",
       "      <td>PT6S</td>\n",
       "      <td>15366570.0</td>\n",
       "      <td>6.561655e+04</td>\n",
       "      <td>879.0</td>\n",
       "      <td>64</td>\n",
       "    </tr>\n",
       "    <tr>\n",
       "      <th>9</th>\n",
       "      <td>Amazing! Giant Watermelon Juice - Fruit Cuttin...</td>\n",
       "      <td>2024-02-09 04:27:45+00:00</td>\n",
       "      <td>PT47S</td>\n",
       "      <td>14168088.0</td>\n",
       "      <td>3.367040e+05</td>\n",
       "      <td>763.0</td>\n",
       "      <td>38</td>\n",
       "    </tr>\n",
       "    <tr>\n",
       "      <th>10</th>\n",
       "      <td>Chopped Cheese @owen.han</td>\n",
       "      <td>2024-02-06 15:00:03+00:00</td>\n",
       "      <td>PT20S</td>\n",
       "      <td>11912834.0</td>\n",
       "      <td>6.043630e+05</td>\n",
       "      <td>1298.0</td>\n",
       "      <td>77</td>\n",
       "    </tr>\n",
       "    <tr>\n",
       "      <th>11</th>\n",
       "      <td>Quería volar</td>\n",
       "      <td>2024-02-07 21:17:32+00:00</td>\n",
       "      <td>PT49S</td>\n",
       "      <td>11477873.0</td>\n",
       "      <td>3.549710e+05</td>\n",
       "      <td>675.0</td>\n",
       "      <td>250</td>\n",
       "    </tr>\n",
       "    <tr>\n",
       "      <th>12</th>\n",
       "      <td>New VS Old Hammer Under Hydraulic Press!</td>\n",
       "      <td>2024-02-10 21:46:44+00:00</td>\n",
       "      <td>PT29S</td>\n",
       "      <td>11141988.0</td>\n",
       "      <td>4.851450e+05</td>\n",
       "      <td>5720.0</td>\n",
       "      <td>226</td>\n",
       "    </tr>\n",
       "    <tr>\n",
       "      <th>13</th>\n",
       "      <td>Paisa bolta hai 🤑 (part-3) | Simran Makhija | ...</td>\n",
       "      <td>2024-02-02 08:28:59+00:00</td>\n",
       "      <td>PT1M</td>\n",
       "      <td>10425978.0</td>\n",
       "      <td>3.206650e+05</td>\n",
       "      <td>201.0</td>\n",
       "      <td>237</td>\n",
       "    </tr>\n",
       "    <tr>\n",
       "      <th>14</th>\n",
       "      <td>The monster is back 😱🥴 LeoNata family #shorts</td>\n",
       "      <td>2024-02-06 15:00:35+00:00</td>\n",
       "      <td>PT21S</td>\n",
       "      <td>10511695.0</td>\n",
       "      <td>1.186490e+05</td>\n",
       "      <td>63.0</td>\n",
       "      <td>305</td>\n",
       "    </tr>\n",
       "  </tbody>\n",
       "</table>\n",
       "</div>"
      ],
      "text/plain": [
       "                                                title  \\\n",
       "0              Se Libró del ATAQUE de un Cocodrilo ❌🐊   \n",
       "1   #Sareedrapping#pregnancydrapping#babyshower#sh...   \n",
       "2   Majburi Insaan Se Kuch Bhi Karva Deti Hai | PA...   \n",
       "3   Tom 🍓 Jerry (Soumya&Ammu)Real End Twist😍🎈 #sho...   \n",
       "4   The success of people depends on their life co...   \n",
       "5                        ARE YOU NORMAL OR …? #shorts   \n",
       "6                   Süper ❤️ Smart family 🤣💕🎥 #shorts   \n",
       "7   Bro didn't even hesitate 🥶 #shorts #sidemen #v...   \n",
       "8           CHAD WEIGHT IS FIX 🗿 #mrbombastic #shorts   \n",
       "9   Amazing! Giant Watermelon Juice - Fruit Cuttin...   \n",
       "10                           Chopped Cheese @owen.han   \n",
       "11                                       Quería volar   \n",
       "12           New VS Old Hammer Under Hydraulic Press!   \n",
       "13  Paisa bolta hai 🤑 (part-3) | Simran Makhija | ...   \n",
       "14      The monster is back 😱🥴 LeoNata family #shorts   \n",
       "\n",
       "                published_at duration  view_count    like_count  \\\n",
       "0  2024-01-27 19:16:13+00:00    PT25S  39972377.0  1.143891e+06   \n",
       "1  2024-02-11 14:43:07+00:00    PT37S  37983493.0  1.239925e+06   \n",
       "2  2024-01-24 05:17:00+00:00   PT1M1S  29605580.0  9.385300e+05   \n",
       "3  2024-01-17 14:14:43+00:00    PT58S  22825107.0  4.386670e+05   \n",
       "4  2024-01-24 09:00:30+00:00    PT56S  21029074.0  3.488980e+05   \n",
       "5  2024-02-08 21:07:37+00:00   PT1M1S  17993330.0  1.269873e+06   \n",
       "6  2024-02-10 10:12:45+00:00    PT57S  18027624.0  2.861900e+05   \n",
       "7  2024-01-30 19:00:18+00:00    PT22S  17421206.0  1.013966e+06   \n",
       "8  2024-01-20 12:00:41+00:00     PT6S  15366570.0  6.561655e+04   \n",
       "9  2024-02-09 04:27:45+00:00    PT47S  14168088.0  3.367040e+05   \n",
       "10 2024-02-06 15:00:03+00:00    PT20S  11912834.0  6.043630e+05   \n",
       "11 2024-02-07 21:17:32+00:00    PT49S  11477873.0  3.549710e+05   \n",
       "12 2024-02-10 21:46:44+00:00    PT29S  11141988.0  4.851450e+05   \n",
       "13 2024-02-02 08:28:59+00:00     PT1M  10425978.0  3.206650e+05   \n",
       "14 2024-02-06 15:00:35+00:00    PT21S  10511695.0  1.186490e+05   \n",
       "\n",
       "    comment_count  title_encoded  \n",
       "0          8254.0            276  \n",
       "1          2823.0             11  \n",
       "2           691.0            197  \n",
       "3           241.0            314  \n",
       "4          1500.0            307  \n",
       "5          7280.0             27  \n",
       "6           442.0            295  \n",
       "7          2256.0             61  \n",
       "8           879.0             64  \n",
       "9           763.0             38  \n",
       "10         1298.0             77  \n",
       "11          675.0            250  \n",
       "12         5720.0            226  \n",
       "13          201.0            237  \n",
       "14           63.0            305  "
      ]
     },
     "execution_count": 18,
     "metadata": {},
     "output_type": "execute_result"
    }
   ],
   "source": [
    "data.head(15)"
   ]
  },
  {
   "cell_type": "markdown",
   "id": "a1ccacb0",
   "metadata": {},
   "source": [
    "# UNIVARIATE ANALYSIS"
   ]
  },
  {
   "cell_type": "markdown",
   "id": "2ee00d85",
   "metadata": {},
   "source": [
    "- **Unvariate Analayse means to analyse single variable.**-\n",
    "- **Unvariate involves like central tendecies, distrubutions and spread of data**-\n",
    "- **when we talk about central tendencies we wanna to know the mean,mode and median of data, range of data, avrage of data.**-\n",
    "- **also when we talk about spread of data we are talking Standard divation and variance divation of data also range of data.**-"
   ]
  },
  {
   "cell_type": "code",
   "execution_count": 19,
   "id": "69a8ed1f",
   "metadata": {},
   "outputs": [
    {
     "data": {
      "text/html": [
       "<div>\n",
       "<style scoped>\n",
       "    .dataframe tbody tr th:only-of-type {\n",
       "        vertical-align: middle;\n",
       "    }\n",
       "\n",
       "    .dataframe tbody tr th {\n",
       "        vertical-align: top;\n",
       "    }\n",
       "\n",
       "    .dataframe thead th {\n",
       "        text-align: right;\n",
       "    }\n",
       "</style>\n",
       "<table border=\"1\" class=\"dataframe\">\n",
       "  <thead>\n",
       "    <tr style=\"text-align: right;\">\n",
       "      <th></th>\n",
       "      <th>view_count</th>\n",
       "      <th>like_count</th>\n",
       "      <th>comment_count</th>\n",
       "      <th>title_encoded</th>\n",
       "    </tr>\n",
       "  </thead>\n",
       "  <tbody>\n",
       "    <tr>\n",
       "      <th>count</th>\n",
       "      <td>5.980000e+02</td>\n",
       "      <td>5.980000e+02</td>\n",
       "      <td>598.000000</td>\n",
       "      <td>598.000000</td>\n",
       "    </tr>\n",
       "    <tr>\n",
       "      <th>mean</th>\n",
       "      <td>1.888822e+06</td>\n",
       "      <td>6.561655e+04</td>\n",
       "      <td>606.583333</td>\n",
       "      <td>235.695652</td>\n",
       "    </tr>\n",
       "    <tr>\n",
       "      <th>std</th>\n",
       "      <td>3.953096e+06</td>\n",
       "      <td>1.414392e+05</td>\n",
       "      <td>1377.874985</td>\n",
       "      <td>136.988798</td>\n",
       "    </tr>\n",
       "    <tr>\n",
       "      <th>min</th>\n",
       "      <td>4.914300e+04</td>\n",
       "      <td>4.700000e+01</td>\n",
       "      <td>0.000000</td>\n",
       "      <td>0.000000</td>\n",
       "    </tr>\n",
       "    <tr>\n",
       "      <th>25%</th>\n",
       "      <td>1.757130e+05</td>\n",
       "      <td>6.818500e+03</td>\n",
       "      <td>66.000000</td>\n",
       "      <td>120.250000</td>\n",
       "    </tr>\n",
       "    <tr>\n",
       "      <th>50%</th>\n",
       "      <td>5.476450e+05</td>\n",
       "      <td>1.720550e+04</td>\n",
       "      <td>191.000000</td>\n",
       "      <td>227.500000</td>\n",
       "    </tr>\n",
       "    <tr>\n",
       "      <th>75%</th>\n",
       "      <td>1.009198e+06</td>\n",
       "      <td>5.683775e+04</td>\n",
       "      <td>527.000000</td>\n",
       "      <td>356.750000</td>\n",
       "    </tr>\n",
       "    <tr>\n",
       "      <th>max</th>\n",
       "      <td>3.997238e+07</td>\n",
       "      <td>1.269873e+06</td>\n",
       "      <td>11924.000000</td>\n",
       "      <td>478.000000</td>\n",
       "    </tr>\n",
       "  </tbody>\n",
       "</table>\n",
       "</div>"
      ],
      "text/plain": [
       "         view_count    like_count  comment_count  title_encoded\n",
       "count  5.980000e+02  5.980000e+02     598.000000     598.000000\n",
       "mean   1.888822e+06  6.561655e+04     606.583333     235.695652\n",
       "std    3.953096e+06  1.414392e+05    1377.874985     136.988798\n",
       "min    4.914300e+04  4.700000e+01       0.000000       0.000000\n",
       "25%    1.757130e+05  6.818500e+03      66.000000     120.250000\n",
       "50%    5.476450e+05  1.720550e+04     191.000000     227.500000\n",
       "75%    1.009198e+06  5.683775e+04     527.000000     356.750000\n",
       "max    3.997238e+07  1.269873e+06   11924.000000     478.000000"
      ]
     },
     "execution_count": 19,
     "metadata": {},
     "output_type": "execute_result"
    }
   ],
   "source": [
    "data.describe()"
   ]
  },
  {
   "cell_type": "code",
   "execution_count": 20,
   "id": "4f0108ba",
   "metadata": {
    "scrolled": false
   },
   "outputs": [
    {
     "name": "stdout",
     "output_type": "stream",
     "text": [
      "1888821.525083612\n"
     ]
    }
   ],
   "source": [
    "# mean Of Data\n",
    "\n",
    "print(data['view_count'].mean())"
   ]
  },
  {
   "cell_type": "markdown",
   "id": "b24a2047",
   "metadata": {},
   "source": [
    "### Median"
   ]
  },
  {
   "cell_type": "code",
   "execution_count": 21,
   "id": "6a7150b4",
   "metadata": {
    "scrolled": true
   },
   "outputs": [
    {
     "name": "stdout",
     "output_type": "stream",
     "text": [
      "547645.0\n"
     ]
    }
   ],
   "source": [
    "# Median Of Data\n",
    "print(data['view_count'].median())"
   ]
  },
  {
   "cell_type": "markdown",
   "id": "6efc2c11",
   "metadata": {},
   "source": [
    "### Min Observation"
   ]
  },
  {
   "cell_type": "code",
   "execution_count": 22,
   "id": "83d886bd",
   "metadata": {
    "scrolled": true
   },
   "outputs": [
    {
     "data": {
      "text/html": [
       "<div>\n",
       "<style scoped>\n",
       "    .dataframe tbody tr th:only-of-type {\n",
       "        vertical-align: middle;\n",
       "    }\n",
       "\n",
       "    .dataframe tbody tr th {\n",
       "        vertical-align: top;\n",
       "    }\n",
       "\n",
       "    .dataframe thead th {\n",
       "        text-align: right;\n",
       "    }\n",
       "</style>\n",
       "<table border=\"1\" class=\"dataframe\">\n",
       "  <thead>\n",
       "    <tr style=\"text-align: right;\">\n",
       "      <th></th>\n",
       "      <th>title</th>\n",
       "      <th>published_at</th>\n",
       "      <th>duration</th>\n",
       "      <th>view_count</th>\n",
       "      <th>like_count</th>\n",
       "      <th>comment_count</th>\n",
       "      <th>title_encoded</th>\n",
       "    </tr>\n",
       "  </thead>\n",
       "  <tbody>\n",
       "    <tr>\n",
       "      <th>597</th>\n",
       "      <td>Week 15 living off homegrown and wild food! 🙂 ...</td>\n",
       "      <td>2024-02-19 17:04:55+00:00</td>\n",
       "      <td>PT58S</td>\n",
       "      <td>49143.0</td>\n",
       "      <td>6287.0</td>\n",
       "      <td>64.0</td>\n",
       "      <td>324</td>\n",
       "    </tr>\n",
       "  </tbody>\n",
       "</table>\n",
       "</div>"
      ],
      "text/plain": [
       "                                                 title  \\\n",
       "597  Week 15 living off homegrown and wild food! 🙂 ...   \n",
       "\n",
       "                 published_at duration  view_count  like_count  comment_count  \\\n",
       "597 2024-02-19 17:04:55+00:00    PT58S     49143.0      6287.0           64.0   \n",
       "\n",
       "     title_encoded  \n",
       "597            324  "
      ]
     },
     "execution_count": 22,
     "metadata": {},
     "output_type": "execute_result"
    }
   ],
   "source": [
    "# minimum of Data\n",
    "data[data['view_count'] == data['view_count'].min()] "
   ]
  },
  {
   "cell_type": "markdown",
   "id": "3810bf74",
   "metadata": {},
   "source": [
    "### Max Observation"
   ]
  },
  {
   "cell_type": "code",
   "execution_count": 23,
   "id": "53e4955c",
   "metadata": {
    "scrolled": true
   },
   "outputs": [
    {
     "data": {
      "text/html": [
       "<div>\n",
       "<style scoped>\n",
       "    .dataframe tbody tr th:only-of-type {\n",
       "        vertical-align: middle;\n",
       "    }\n",
       "\n",
       "    .dataframe tbody tr th {\n",
       "        vertical-align: top;\n",
       "    }\n",
       "\n",
       "    .dataframe thead th {\n",
       "        text-align: right;\n",
       "    }\n",
       "</style>\n",
       "<table border=\"1\" class=\"dataframe\">\n",
       "  <thead>\n",
       "    <tr style=\"text-align: right;\">\n",
       "      <th></th>\n",
       "      <th>title</th>\n",
       "      <th>published_at</th>\n",
       "      <th>duration</th>\n",
       "      <th>view_count</th>\n",
       "      <th>like_count</th>\n",
       "      <th>comment_count</th>\n",
       "      <th>title_encoded</th>\n",
       "    </tr>\n",
       "  </thead>\n",
       "  <tbody>\n",
       "    <tr>\n",
       "      <th>0</th>\n",
       "      <td>Se Libró del ATAQUE de un Cocodrilo ❌🐊</td>\n",
       "      <td>2024-01-27 19:16:13+00:00</td>\n",
       "      <td>PT25S</td>\n",
       "      <td>39972377.0</td>\n",
       "      <td>1143891.0</td>\n",
       "      <td>8254.0</td>\n",
       "      <td>276</td>\n",
       "    </tr>\n",
       "  </tbody>\n",
       "</table>\n",
       "</div>"
      ],
      "text/plain": [
       "                                    title              published_at duration  \\\n",
       "0  Se Libró del ATAQUE de un Cocodrilo ❌🐊 2024-01-27 19:16:13+00:00    PT25S   \n",
       "\n",
       "   view_count  like_count  comment_count  title_encoded  \n",
       "0  39972377.0   1143891.0         8254.0            276  "
      ]
     },
     "execution_count": 23,
     "metadata": {},
     "output_type": "execute_result"
    }
   ],
   "source": [
    "# Maximum Of data \n",
    "data[data['view_count'] == data['view_count'].max()]        "
   ]
  },
  {
   "cell_type": "markdown",
   "id": "f8df18e3",
   "metadata": {},
   "source": [
    "### Range "
   ]
  },
  {
   "cell_type": "code",
   "execution_count": 24,
   "id": "e0c6d5b6",
   "metadata": {
    "scrolled": true
   },
   "outputs": [
    {
     "name": "stdout",
     "output_type": "stream",
     "text": [
      "49143.0 39972377.0\n"
     ]
    }
   ],
   "source": [
    "# Range Of Data\n",
    "print(data['view_count'].min(), data['view_count'].max())"
   ]
  },
  {
   "cell_type": "markdown",
   "id": "54f71061",
   "metadata": {},
   "source": [
    "### Max, Min, Range for each column"
   ]
  },
  {
   "cell_type": "code",
   "execution_count": 25,
   "id": "216b923b",
   "metadata": {
    "scrolled": true
   },
   "outputs": [
    {
     "data": {
      "text/plain": [
       "view_count       39972377.0\n",
       "like_count        1269873.0\n",
       "comment_count       11924.0\n",
       "title_encoded         478.0\n",
       "dtype: float64"
      ]
     },
     "execution_count": 25,
     "metadata": {},
     "output_type": "execute_result"
    }
   ],
   "source": [
    "# Printing Max of evey numerical column\n",
    "numerical_cols = ['view_count', 'like_count', 'comment_count', 'title_encoded']\n",
    "data[numerical_cols].max()"
   ]
  },
  {
   "cell_type": "code",
   "execution_count": 26,
   "id": "0b973689",
   "metadata": {},
   "outputs": [
    {
     "data": {
      "text/plain": [
       "view_count       49143.0\n",
       "like_count          47.0\n",
       "comment_count        0.0\n",
       "title_encoded        0.0\n",
       "dtype: float64"
      ]
     },
     "execution_count": 26,
     "metadata": {},
     "output_type": "execute_result"
    }
   ],
   "source": [
    "data[numerical_cols].min()"
   ]
  },
  {
   "cell_type": "markdown",
   "id": "40e1fe8b",
   "metadata": {},
   "source": [
    "### Standard Deviation and Variance"
   ]
  },
  {
   "cell_type": "code",
   "execution_count": 27,
   "id": "72af8e07",
   "metadata": {},
   "outputs": [
    {
     "name": "stdout",
     "output_type": "stream",
     "text": [
      "3953095.8116930434\n",
      "15626966496425.082\n"
     ]
    }
   ],
   "source": [
    "# Spread Of data are calssified into two standartd and varience \n",
    "\n",
    "print(data['view_count'].std())\n",
    "print(data['view_count'].var())"
   ]
  },
  {
   "cell_type": "code",
   "execution_count": 28,
   "id": "1b0ac1c5",
   "metadata": {},
   "outputs": [
    {
     "data": {
      "image/png": "[encoded data removed]",
      "text/plain": [
       "<Figure size 640x480 with 1 Axes>"
      ]
     },
     "metadata": {},
     "output_type": "display_data"
    }
   ],
   "source": [
    "# Visualization (Histogram of published_at) Is a part EDA\n",
    "import matplotlib.pyplot as plt\n",
    "\n",
    "plt.hist(data['published_at'], bins=10,)\n",
    "plt.xlabel('published_at')\n",
    "plt.ylabel('Frequency')\n",
    "plt.title('Histogram of published_at')\n",
    "plt.show()"
   ]
  },
  {
   "cell_type": "code",
   "execution_count": 29,
   "id": "2b33f61a",
   "metadata": {
    "scrolled": true
   },
   "outputs": [
    {
     "data": {
      "image/png": "[encoded data removed]",
      "text/plain": [
       "<Figure size 600x400 with 1 Axes>"
      ]
     },
     "metadata": {},
     "output_type": "display_data"
    }
   ],
   "source": [
    "# Histogram for view_count\n",
    "plt.figure(figsize=(6, 4))\n",
    "sns.histplot(data['view_count'], bins=30, kde=True, color='blue')\n",
    "plt.title('Distribution of View Count')\n",
    "plt.xlabel('View Count')\n",
    "plt.ylabel('Frequency')\n",
    "plt.show()"
   ]
  },
  {
   "cell_type": "code",
   "execution_count": 30,
   "id": "67d564a5",
   "metadata": {},
   "outputs": [
    {
     "data": {
      "image/png": "[encoded data removed]",
      "text/plain": [
       "<Figure size 600x600 with 1 Axes>"
      ]
     },
     "metadata": {},
     "output_type": "display_data"
    }
   ],
   "source": [
    "# Histogram for 'like_count'\n",
    "plt.figure(figsize=(6, 6))\n",
    "sns.histplot(data['like_count'], bins=30, kde=True, color='lightgreen')\n",
    "plt.title('Distribution of Like Count')\n",
    "plt.xlabel('Like Count')\n",
    "plt.ylabel('Frequency')\n",
    "plt.show()"
   ]
  },
  {
   "cell_type": "code",
   "execution_count": 31,
   "id": "08413ceb",
   "metadata": {},
   "outputs": [
    {
     "data": {
      "image/png": "[encoded data removed]",
      "text/plain": [
       "<Figure size 700x600 with 1 Axes>"
      ]
     },
     "metadata": {},
     "output_type": "display_data"
    }
   ],
   "source": [
    "# Histogram for 'comment_count'\n",
    "plt.figure(figsize=(7, 6))\n",
    "sns.histplot(data['comment_count'], bins=30, kde=True, color='salmon')\n",
    "plt.title('Distribution of Comment Count')\n",
    "plt.xlabel('Comment Count')\n",
    "plt.ylabel('Frequency')\n",
    "plt.show()"
   ]
  },
  {
   "cell_type": "code",
   "execution_count": 32,
   "id": "958c2a5e",
   "metadata": {},
   "outputs": [
    {
     "data": {
      "image/png": "[encoded data removed]",
      "text/plain": [
       "<Figure size 800x500 with 1 Axes>"
      ]
     },
     "metadata": {},
     "output_type": "display_data"
    }
   ],
   "source": [
    "# Bar plot for duration\n",
    "plt.figure(figsize=(8, 5))\n",
    "data['duration'].value_counts().plot(kind='bar', color='lightcoral')\n",
    "plt.title('Distribution of Video Durations')\n",
    "plt.xlabel('Duration')\n",
    "plt.ylabel('Count')\n",
    "plt.xticks(rotation=50)\n",
    "plt.show()"
   ]
  },
  {
   "cell_type": "code",
   "execution_count": 33,
   "id": "30eb26a8",
   "metadata": {},
   "outputs": [
    {
     "data": {
      "text/plain": [
       "<Axes: xlabel='duration', ylabel='Count'>"
      ]
     },
     "execution_count": 33,
     "metadata": {},
     "output_type": "execute_result"
    },
    {
     "data": {
      "image/png": "[encoded data removed]",
      "text/plain": [
       "<Figure size 640x480 with 1 Axes>"
      ]
     },
     "metadata": {},
     "output_type": "display_data"
    }
   ],
   "source": [
    "sns.histplot(data['duration'],kde=False,bins=20)"
   ]
  },
  {
   "cell_type": "markdown",
   "id": "23bbd46d",
   "metadata": {},
   "source": [
    "# BIVARIATE ANALYSIS"
   ]
  },
  {
   "cell_type": "code",
   "execution_count": 34,
   "id": "53ba60db",
   "metadata": {},
   "outputs": [
    {
     "data": {
      "image/png": "[encoded data removed]",
      "text/plain": [
       "<Figure size 700x500 with 1 Axes>"
      ]
     },
     "metadata": {},
     "output_type": "display_data"
    }
   ],
   "source": [
    "# Scatter plot between 'view_count' and 'like_count'\n",
    "plt.figure(figsize=(7, 5))\n",
    "sns.scatterplot(x='view_count', y='like_count', data=data)\n",
    "plt.title('Scatter plot of View Count vs. Like Count')\n",
    "plt.xlabel('View Count')\n",
    "plt.ylabel('Like Count')\n",
    "plt.show()"
   ]
  },
  {
   "cell_type": "code",
   "execution_count": 35,
   "id": "baca0697",
   "metadata": {},
   "outputs": [
    {
     "data": {
      "image/png": "[encoded data removed]",
      "text/plain": [
       "<Figure size 800x600 with 1 Axes>"
      ]
     },
     "metadata": {},
     "output_type": "display_data"
    }
   ],
   "source": [
    "# Scatter plot between 'view_count' and 'comment_count'\n",
    "plt.figure(figsize=(8, 6))\n",
    "sns.lineplot(x='view_count', y='comment_count', data=data)\n",
    "plt.title('View Count vs. Comment Count')\n",
    "plt.xlabel('View Count')\n",
    "plt.ylabel('Comment Count')\n",
    "plt.show()"
   ]
  },
  {
   "cell_type": "code",
   "execution_count": 36,
   "id": "c042d459",
   "metadata": {},
   "outputs": [],
   "source": [
    "# Correlation matrix\n",
    "corr_matrix = data[['published_at', 'view_count', 'like_count', 'comment_count']].corr()"
   ]
  },
  {
   "cell_type": "code",
   "execution_count": 37,
   "id": "0ac9f23e",
   "metadata": {},
   "outputs": [
    {
     "data": {
      "image/png": "[encoded data removed]",
      "text/plain": [
       "<Figure size 800x600 with 2 Axes>"
      ]
     },
     "metadata": {},
     "output_type": "display_data"
    }
   ],
   "source": [
    "# Heatmap of correlation matrix\n",
    "plt.figure(figsize=(8, 6))\n",
    "sns.heatmap(corr_matrix, annot=True, cmap='coolwarm', fmt=\".2f\")\n",
    "plt.title('Correlation Heatmap')\n",
    "plt.show()"
   ]
  },
  {
   "cell_type": "markdown",
   "id": "48851a30",
   "metadata": {},
   "source": [
    "## Outlier Treatment"
   ]
  },
  {
   "cell_type": "code",
   "execution_count": 38,
   "id": "7cd116c5",
   "metadata": {},
   "outputs": [
    {
     "data": {
      "text/html": [
       "<div>\n",
       "<style scoped>\n",
       "    .dataframe tbody tr th:only-of-type {\n",
       "        vertical-align: middle;\n",
       "    }\n",
       "\n",
       "    .dataframe tbody tr th {\n",
       "        vertical-align: top;\n",
       "    }\n",
       "\n",
       "    .dataframe thead th {\n",
       "        text-align: right;\n",
       "    }\n",
       "</style>\n",
       "<table border=\"1\" class=\"dataframe\">\n",
       "  <thead>\n",
       "    <tr style=\"text-align: right;\">\n",
       "      <th></th>\n",
       "      <th>view_count</th>\n",
       "      <th>like_count</th>\n",
       "      <th>comment_count</th>\n",
       "      <th>title_encoded</th>\n",
       "    </tr>\n",
       "  </thead>\n",
       "  <tbody>\n",
       "    <tr>\n",
       "      <th>count</th>\n",
       "      <td>5.980000e+02</td>\n",
       "      <td>5.980000e+02</td>\n",
       "      <td>598.000000</td>\n",
       "      <td>598.000000</td>\n",
       "    </tr>\n",
       "    <tr>\n",
       "      <th>mean</th>\n",
       "      <td>1.888822e+06</td>\n",
       "      <td>6.561655e+04</td>\n",
       "      <td>606.583333</td>\n",
       "      <td>235.695652</td>\n",
       "    </tr>\n",
       "    <tr>\n",
       "      <th>std</th>\n",
       "      <td>3.953096e+06</td>\n",
       "      <td>1.414392e+05</td>\n",
       "      <td>1377.874985</td>\n",
       "      <td>136.988798</td>\n",
       "    </tr>\n",
       "    <tr>\n",
       "      <th>min</th>\n",
       "      <td>4.914300e+04</td>\n",
       "      <td>4.700000e+01</td>\n",
       "      <td>0.000000</td>\n",
       "      <td>0.000000</td>\n",
       "    </tr>\n",
       "    <tr>\n",
       "      <th>25%</th>\n",
       "      <td>1.757130e+05</td>\n",
       "      <td>6.818500e+03</td>\n",
       "      <td>66.000000</td>\n",
       "      <td>120.250000</td>\n",
       "    </tr>\n",
       "    <tr>\n",
       "      <th>50%</th>\n",
       "      <td>5.476450e+05</td>\n",
       "      <td>1.720550e+04</td>\n",
       "      <td>191.000000</td>\n",
       "      <td>227.500000</td>\n",
       "    </tr>\n",
       "    <tr>\n",
       "      <th>75%</th>\n",
       "      <td>1.009198e+06</td>\n",
       "      <td>5.683775e+04</td>\n",
       "      <td>527.000000</td>\n",
       "      <td>356.750000</td>\n",
       "    </tr>\n",
       "    <tr>\n",
       "      <th>max</th>\n",
       "      <td>3.997238e+07</td>\n",
       "      <td>1.269873e+06</td>\n",
       "      <td>11924.000000</td>\n",
       "      <td>478.000000</td>\n",
       "    </tr>\n",
       "  </tbody>\n",
       "</table>\n",
       "</div>"
      ],
      "text/plain": [
       "         view_count    like_count  comment_count  title_encoded\n",
       "count  5.980000e+02  5.980000e+02     598.000000     598.000000\n",
       "mean   1.888822e+06  6.561655e+04     606.583333     235.695652\n",
       "std    3.953096e+06  1.414392e+05    1377.874985     136.988798\n",
       "min    4.914300e+04  4.700000e+01       0.000000       0.000000\n",
       "25%    1.757130e+05  6.818500e+03      66.000000     120.250000\n",
       "50%    5.476450e+05  1.720550e+04     191.000000     227.500000\n",
       "75%    1.009198e+06  5.683775e+04     527.000000     356.750000\n",
       "max    3.997238e+07  1.269873e+06   11924.000000     478.000000"
      ]
     },
     "execution_count": 38,
     "metadata": {},
     "output_type": "execute_result"
    }
   ],
   "source": [
    "data.describe()"
   ]
  },
  {
   "cell_type": "code",
   "execution_count": 39,
   "id": "955f7939",
   "metadata": {},
   "outputs": [
    {
     "data": {
      "text/plain": [
       "(66.0, 527.0)"
      ]
     },
     "execution_count": 39,
     "metadata": {},
     "output_type": "execute_result"
    }
   ],
   "source": [
    "data['comment_count'].quantile(0.25), data['comment_count'].quantile(0.75)"
   ]
  },
  {
   "cell_type": "code",
   "execution_count": 40,
   "id": "b76ea9cf",
   "metadata": {},
   "outputs": [
    {
     "data": {
      "text/plain": [
       "461.0"
      ]
     },
     "execution_count": 40,
     "metadata": {},
     "output_type": "execute_result"
    }
   ],
   "source": [
    "IQR=data['comment_count'].quantile(0.75) - data['comment_count'].quantile(0.25)\n",
    "IQR"
   ]
  },
  {
   "cell_type": "code",
   "execution_count": 41,
   "id": "06020acd",
   "metadata": {},
   "outputs": [
    {
     "data": {
      "text/plain": [
       "(-625.5, 1218.5)"
      ]
     },
     "execution_count": 41,
     "metadata": {},
     "output_type": "execute_result"
    }
   ],
   "source": [
    "Q1= data['comment_count'].quantile(0.25)\n",
    "Q2=data['comment_count'].quantile(0.75)\n",
    "whisker_1=Q1-(1.5*IQR)\n",
    "whisker_2=Q2 + (1.5*IQR)\n",
    "\n",
    "whisker_1, whisker_2"
   ]
  },
  {
   "cell_type": "code",
   "execution_count": 42,
   "id": "471d1d43",
   "metadata": {},
   "outputs": [],
   "source": [
    "# data.loc[data['comment_count']<66]"
   ]
  },
  {
   "cell_type": "code",
   "execution_count": 43,
   "id": "86f864e6",
   "metadata": {
    "scrolled": true
   },
   "outputs": [
    {
     "data": {
      "text/plain": [
       "((598, 7), (149, 7))"
      ]
     },
     "execution_count": 43,
     "metadata": {},
     "output_type": "execute_result"
    }
   ],
   "source": [
    "data_new = data.loc[data['comment_count']<66]\n",
    "data.shape, data_new.shape"
   ]
  },
  {
   "cell_type": "markdown",
   "id": "da2720b4",
   "metadata": {},
   "source": [
    "## Replacing Outliers"
   ]
  },
  {
   "cell_type": "code",
   "execution_count": 44,
   "id": "44f3f2cc",
   "metadata": {},
   "outputs": [
    {
     "data": {
      "text/plain": [
       "110    5.0\n",
       "129    1.0\n",
       "137    0.0\n",
       "148    2.0\n",
       "150    2.0\n",
       "190    4.0\n",
       "193    5.0\n",
       "215    5.0\n",
       "378    0.0\n",
       "417    4.0\n",
       "429    5.0\n",
       "447    5.0\n",
       "455    5.0\n",
       "471    0.0\n",
       "473    2.0\n",
       "511    0.0\n",
       "525    6.0\n",
       "535    0.0\n",
       "548    4.0\n",
       "550    6.0\n",
       "569    0.0\n",
       "571    4.0\n",
       "589    6.0\n",
       "Name: comment_count, dtype: float64"
      ]
     },
     "execution_count": 44,
     "metadata": {},
     "output_type": "execute_result"
    }
   ],
   "source": [
    "data['comment_count'].loc[data['comment_count']<7]"
   ]
  },
  {
   "cell_type": "code",
   "execution_count": 45,
   "id": "8d08f4ad",
   "metadata": {},
   "outputs": [
    {
     "data": {
      "text/plain": [
       "110    5.0\n",
       "129    1.0\n",
       "137    0.0\n",
       "148    2.0\n",
       "150    2.0\n",
       "190    4.0\n",
       "193    5.0\n",
       "215    5.0\n",
       "378    0.0\n",
       "417    4.0\n",
       "429    5.0\n",
       "447    5.0\n",
       "455    5.0\n",
       "471    0.0\n",
       "473    2.0\n",
       "511    0.0\n",
       "525    6.0\n",
       "535    0.0\n",
       "548    4.0\n",
       "550    6.0\n",
       "569    0.0\n",
       "571    4.0\n",
       "589    6.0\n",
       "Name: comment_count, dtype: float64"
      ]
     },
     "execution_count": 45,
     "metadata": {},
     "output_type": "execute_result"
    }
   ],
   "source": [
    "data['comment_count'].loc[data['comment_count']<7]"
   ]
  },
  {
   "cell_type": "code",
   "execution_count": 46,
   "id": "4f45a8e0",
   "metadata": {},
   "outputs": [
    {
     "data": {
      "text/plain": [
       "6.0"
      ]
     },
     "execution_count": 46,
     "metadata": {},
     "output_type": "execute_result"
    }
   ],
   "source": [
    "data['comment_count'][589]"
   ]
  },
  {
   "cell_type": "code",
   "execution_count": 47,
   "id": "cabb4855",
   "metadata": {},
   "outputs": [
    {
     "data": {
      "image/png": "[encoded data removed]",
      "text/plain": [
       "<Figure size 1000x600 with 1 Axes>"
      ]
     },
     "metadata": {},
     "output_type": "display_data"
    }
   ],
   "source": [
    "# Define the numerical columns for outlier visualization\n",
    "numerical_cols = ['view_count', 'like_count', 'comment_count', 'title_encoded']\n",
    "\n",
    "# Create box plots for each numerical column\n",
    "plt.figure(figsize=(10, 6))\n",
    "sns.boxplot(data=data[numerical_cols])\n",
    "# set title\n",
    "plt.title('Numerical Columns (with Outliers)')\n",
    "plt.xlabel('Numerical Columns')\n",
    "plt.ylabel('Values')\n",
    "plt.xticks(rotation=45)  # Rotate x-axis labels for better readability\n",
    "plt.show()"
   ]
  },
  {
   "cell_type": "markdown",
   "id": "c0dae18d",
   "metadata": {},
   "source": [
    "## Feature Engineering"
   ]
  },
  {
   "cell_type": "markdown",
   "id": "fa2c6377",
   "metadata": {},
   "source": [
    "#### Datetime Features:"
   ]
  },
  {
   "cell_type": "markdown",
   "id": "bfb4044e",
   "metadata": {},
   "source": [
    "Extract features from the 'published_at' column:\n",
    "Extract the year, month, and day as separate features.\n",
    "Calculate the day of the week or time of day when the video was published."
   ]
  },
  {
   "cell_type": "code",
   "execution_count": 48,
   "id": "49b327e3",
   "metadata": {},
   "outputs": [],
   "source": [
    "data['published_at'] = pd.to_datetime(data['published_at'])\n",
    "data['publish_year'] = data['published_at'].dt.year\n",
    "data['publish_month'] = data['published_at'].dt.month\n",
    "data['publish_day'] = data['published_at'].dt.day\n",
    "data['publish_day_of_week'] = data['published_at'].dt.dayofweek"
   ]
  },
  {
   "cell_type": "code",
   "execution_count": 49,
   "id": "6b4257d5",
   "metadata": {},
   "outputs": [
    {
     "data": {
      "text/html": [
       "<div>\n",
       "<style scoped>\n",
       "    .dataframe tbody tr th:only-of-type {\n",
       "        vertical-align: middle;\n",
       "    }\n",
       "\n",
       "    .dataframe tbody tr th {\n",
       "        vertical-align: top;\n",
       "    }\n",
       "\n",
       "    .dataframe thead th {\n",
       "        text-align: right;\n",
       "    }\n",
       "</style>\n",
       "<table border=\"1\" class=\"dataframe\">\n",
       "  <thead>\n",
       "    <tr style=\"text-align: right;\">\n",
       "      <th></th>\n",
       "      <th>title</th>\n",
       "      <th>published_at</th>\n",
       "      <th>duration</th>\n",
       "      <th>view_count</th>\n",
       "      <th>like_count</th>\n",
       "      <th>comment_count</th>\n",
       "      <th>title_encoded</th>\n",
       "      <th>publish_year</th>\n",
       "      <th>publish_month</th>\n",
       "      <th>publish_day</th>\n",
       "      <th>publish_day_of_week</th>\n",
       "    </tr>\n",
       "  </thead>\n",
       "  <tbody>\n",
       "    <tr>\n",
       "      <th>0</th>\n",
       "      <td>Se Libró del ATAQUE de un Cocodrilo ❌🐊</td>\n",
       "      <td>2024-01-27 19:16:13+00:00</td>\n",
       "      <td>PT25S</td>\n",
       "      <td>39972377.0</td>\n",
       "      <td>1143891.0</td>\n",
       "      <td>8254.0</td>\n",
       "      <td>276</td>\n",
       "      <td>2024</td>\n",
       "      <td>1</td>\n",
       "      <td>27</td>\n",
       "      <td>5</td>\n",
       "    </tr>\n",
       "    <tr>\n",
       "      <th>1</th>\n",
       "      <td>#Sareedrapping#pregnancydrapping#babyshower#sh...</td>\n",
       "      <td>2024-02-11 14:43:07+00:00</td>\n",
       "      <td>PT37S</td>\n",
       "      <td>37983493.0</td>\n",
       "      <td>1239925.0</td>\n",
       "      <td>2823.0</td>\n",
       "      <td>11</td>\n",
       "      <td>2024</td>\n",
       "      <td>2</td>\n",
       "      <td>11</td>\n",
       "      <td>6</td>\n",
       "    </tr>\n",
       "    <tr>\n",
       "      <th>2</th>\n",
       "      <td>Majburi Insaan Se Kuch Bhi Karva Deti Hai | PA...</td>\n",
       "      <td>2024-01-24 05:17:00+00:00</td>\n",
       "      <td>PT1M1S</td>\n",
       "      <td>29605580.0</td>\n",
       "      <td>938530.0</td>\n",
       "      <td>691.0</td>\n",
       "      <td>197</td>\n",
       "      <td>2024</td>\n",
       "      <td>1</td>\n",
       "      <td>24</td>\n",
       "      <td>2</td>\n",
       "    </tr>\n",
       "    <tr>\n",
       "      <th>3</th>\n",
       "      <td>Tom 🍓 Jerry (Soumya&amp;Ammu)Real End Twist😍🎈 #sho...</td>\n",
       "      <td>2024-01-17 14:14:43+00:00</td>\n",
       "      <td>PT58S</td>\n",
       "      <td>22825107.0</td>\n",
       "      <td>438667.0</td>\n",
       "      <td>241.0</td>\n",
       "      <td>314</td>\n",
       "      <td>2024</td>\n",
       "      <td>1</td>\n",
       "      <td>17</td>\n",
       "      <td>2</td>\n",
       "    </tr>\n",
       "    <tr>\n",
       "      <th>4</th>\n",
       "      <td>The success of people depends on their life co...</td>\n",
       "      <td>2024-01-24 09:00:30+00:00</td>\n",
       "      <td>PT56S</td>\n",
       "      <td>21029074.0</td>\n",
       "      <td>348898.0</td>\n",
       "      <td>1500.0</td>\n",
       "      <td>307</td>\n",
       "      <td>2024</td>\n",
       "      <td>1</td>\n",
       "      <td>24</td>\n",
       "      <td>2</td>\n",
       "    </tr>\n",
       "  </tbody>\n",
       "</table>\n",
       "</div>"
      ],
      "text/plain": [
       "                                               title  \\\n",
       "0             Se Libró del ATAQUE de un Cocodrilo ❌🐊   \n",
       "1  #Sareedrapping#pregnancydrapping#babyshower#sh...   \n",
       "2  Majburi Insaan Se Kuch Bhi Karva Deti Hai | PA...   \n",
       "3  Tom 🍓 Jerry (Soumya&Ammu)Real End Twist😍🎈 #sho...   \n",
       "4  The success of people depends on their life co...   \n",
       "\n",
       "               published_at duration  view_count  like_count  comment_count  \\\n",
       "0 2024-01-27 19:16:13+00:00    PT25S  39972377.0   1143891.0         8254.0   \n",
       "1 2024-02-11 14:43:07+00:00    PT37S  37983493.0   1239925.0         2823.0   \n",
       "2 2024-01-24 05:17:00+00:00   PT1M1S  29605580.0    938530.0          691.0   \n",
       "3 2024-01-17 14:14:43+00:00    PT58S  22825107.0    438667.0          241.0   \n",
       "4 2024-01-24 09:00:30+00:00    PT56S  21029074.0    348898.0         1500.0   \n",
       "\n",
       "   title_encoded  publish_year  publish_month  publish_day  \\\n",
       "0            276          2024              1           27   \n",
       "1             11          2024              2           11   \n",
       "2            197          2024              1           24   \n",
       "3            314          2024              1           17   \n",
       "4            307          2024              1           24   \n",
       "\n",
       "   publish_day_of_week  \n",
       "0                    5  \n",
       "1                    6  \n",
       "2                    2  \n",
       "3                    2  \n",
       "4                    2  "
      ]
     },
     "execution_count": 49,
     "metadata": {},
     "output_type": "execute_result"
    }
   ],
   "source": [
    "data.head()"
   ]
  },
  {
   "cell_type": "markdown",
   "id": "cc02f866",
   "metadata": {},
   "source": [
    "#### Duration in Seconds:\n"
   ]
  },
  {
   "cell_type": "code",
   "execution_count": 50,
   "id": "1c0b4a2a",
   "metadata": {},
   "outputs": [
    {
     "name": "stdout",
     "output_type": "stream",
     "text": [
      "5415\n"
     ]
    }
   ],
   "source": [
    "import re\n",
    "\n",
    "def duration_to_seconds(duration):\n",
    "    # Regular expression to extract hours, minutes, and seconds\n",
    "    pattern = re.compile(r'PT(?:(\\d+)H)?(?:(\\d+)M)?(?:(\\d+)S)?')\n",
    "    \n",
    "    # Attempt to match the pattern in the duration string\n",
    "    match = pattern.match(duration)\n",
    "    \n",
    "    if match:\n",
    "        # Extract hours, minutes, and seconds from the matched groups\n",
    "        hours, minutes, seconds = map(int, match.groups(default='0'))\n",
    "        \n",
    "        # Convert to total seconds\n",
    "        total_seconds = hours * 3600 + minutes * 60 + seconds\n",
    "        return total_seconds\n",
    "    else:\n",
    "        # Return a default value or handle the case where the pattern doesn't match\n",
    "        return None\n",
    "\n",
    "# Example usage:\n",
    "duration_str = 'PT1H30M15S'\n",
    "seconds = duration_to_seconds(duration_str)\n",
    "print(seconds)  # Output: 5415 seconds\n"
   ]
  },
  {
   "cell_type": "code",
   "execution_count": 51,
   "id": "b00e20f9",
   "metadata": {},
   "outputs": [],
   "source": [
    "data['duration_seconds'] = data['duration'].apply(lambda x: duration_to_seconds(x))"
   ]
  },
  {
   "cell_type": "code",
   "execution_count": 52,
   "id": "a4297b8c",
   "metadata": {},
   "outputs": [
    {
     "data": {
      "text/html": [
       "<div>\n",
       "<style scoped>\n",
       "    .dataframe tbody tr th:only-of-type {\n",
       "        vertical-align: middle;\n",
       "    }\n",
       "\n",
       "    .dataframe tbody tr th {\n",
       "        vertical-align: top;\n",
       "    }\n",
       "\n",
       "    .dataframe thead th {\n",
       "        text-align: right;\n",
       "    }\n",
       "</style>\n",
       "<table border=\"1\" class=\"dataframe\">\n",
       "  <thead>\n",
       "    <tr style=\"text-align: right;\">\n",
       "      <th></th>\n",
       "      <th>title</th>\n",
       "      <th>published_at</th>\n",
       "      <th>duration</th>\n",
       "      <th>view_count</th>\n",
       "      <th>like_count</th>\n",
       "      <th>comment_count</th>\n",
       "      <th>title_encoded</th>\n",
       "      <th>publish_year</th>\n",
       "      <th>publish_month</th>\n",
       "      <th>publish_day</th>\n",
       "      <th>publish_day_of_week</th>\n",
       "      <th>duration_seconds</th>\n",
       "    </tr>\n",
       "  </thead>\n",
       "  <tbody>\n",
       "    <tr>\n",
       "      <th>0</th>\n",
       "      <td>Se Libró del ATAQUE de un Cocodrilo ❌🐊</td>\n",
       "      <td>2024-01-27 19:16:13+00:00</td>\n",
       "      <td>PT25S</td>\n",
       "      <td>39972377.0</td>\n",
       "      <td>1143891.0</td>\n",
       "      <td>8254.0</td>\n",
       "      <td>276</td>\n",
       "      <td>2024</td>\n",
       "      <td>1</td>\n",
       "      <td>27</td>\n",
       "      <td>5</td>\n",
       "      <td>25.0</td>\n",
       "    </tr>\n",
       "    <tr>\n",
       "      <th>1</th>\n",
       "      <td>#Sareedrapping#pregnancydrapping#babyshower#sh...</td>\n",
       "      <td>2024-02-11 14:43:07+00:00</td>\n",
       "      <td>PT37S</td>\n",
       "      <td>37983493.0</td>\n",
       "      <td>1239925.0</td>\n",
       "      <td>2823.0</td>\n",
       "      <td>11</td>\n",
       "      <td>2024</td>\n",
       "      <td>2</td>\n",
       "      <td>11</td>\n",
       "      <td>6</td>\n",
       "      <td>37.0</td>\n",
       "    </tr>\n",
       "    <tr>\n",
       "      <th>2</th>\n",
       "      <td>Majburi Insaan Se Kuch Bhi Karva Deti Hai | PA...</td>\n",
       "      <td>2024-01-24 05:17:00+00:00</td>\n",
       "      <td>PT1M1S</td>\n",
       "      <td>29605580.0</td>\n",
       "      <td>938530.0</td>\n",
       "      <td>691.0</td>\n",
       "      <td>197</td>\n",
       "      <td>2024</td>\n",
       "      <td>1</td>\n",
       "      <td>24</td>\n",
       "      <td>2</td>\n",
       "      <td>61.0</td>\n",
       "    </tr>\n",
       "    <tr>\n",
       "      <th>3</th>\n",
       "      <td>Tom 🍓 Jerry (Soumya&amp;Ammu)Real End Twist😍🎈 #sho...</td>\n",
       "      <td>2024-01-17 14:14:43+00:00</td>\n",
       "      <td>PT58S</td>\n",
       "      <td>22825107.0</td>\n",
       "      <td>438667.0</td>\n",
       "      <td>241.0</td>\n",
       "      <td>314</td>\n",
       "      <td>2024</td>\n",
       "      <td>1</td>\n",
       "      <td>17</td>\n",
       "      <td>2</td>\n",
       "      <td>58.0</td>\n",
       "    </tr>\n",
       "    <tr>\n",
       "      <th>4</th>\n",
       "      <td>The success of people depends on their life co...</td>\n",
       "      <td>2024-01-24 09:00:30+00:00</td>\n",
       "      <td>PT56S</td>\n",
       "      <td>21029074.0</td>\n",
       "      <td>348898.0</td>\n",
       "      <td>1500.0</td>\n",
       "      <td>307</td>\n",
       "      <td>2024</td>\n",
       "      <td>1</td>\n",
       "      <td>24</td>\n",
       "      <td>2</td>\n",
       "      <td>56.0</td>\n",
       "    </tr>\n",
       "  </tbody>\n",
       "</table>\n",
       "</div>"
      ],
      "text/plain": [
       "                                               title  \\\n",
       "0             Se Libró del ATAQUE de un Cocodrilo ❌🐊   \n",
       "1  #Sareedrapping#pregnancydrapping#babyshower#sh...   \n",
       "2  Majburi Insaan Se Kuch Bhi Karva Deti Hai | PA...   \n",
       "3  Tom 🍓 Jerry (Soumya&Ammu)Real End Twist😍🎈 #sho...   \n",
       "4  The success of people depends on their life co...   \n",
       "\n",
       "               published_at duration  view_count  like_count  comment_count  \\\n",
       "0 2024-01-27 19:16:13+00:00    PT25S  39972377.0   1143891.0         8254.0   \n",
       "1 2024-02-11 14:43:07+00:00    PT37S  37983493.0   1239925.0         2823.0   \n",
       "2 2024-01-24 05:17:00+00:00   PT1M1S  29605580.0    938530.0          691.0   \n",
       "3 2024-01-17 14:14:43+00:00    PT58S  22825107.0    438667.0          241.0   \n",
       "4 2024-01-24 09:00:30+00:00    PT56S  21029074.0    348898.0         1500.0   \n",
       "\n",
       "   title_encoded  publish_year  publish_month  publish_day  \\\n",
       "0            276          2024              1           27   \n",
       "1             11          2024              2           11   \n",
       "2            197          2024              1           24   \n",
       "3            314          2024              1           17   \n",
       "4            307          2024              1           24   \n",
       "\n",
       "   publish_day_of_week  duration_seconds  \n",
       "0                    5              25.0  \n",
       "1                    6              37.0  \n",
       "2                    2              61.0  \n",
       "3                    2              58.0  \n",
       "4                    2              56.0  "
      ]
     },
     "execution_count": 52,
     "metadata": {},
     "output_type": "execute_result"
    }
   ],
   "source": [
    "data.head()"
   ]
  },
  {
   "cell_type": "code",
   "execution_count": 53,
   "id": "a270fb03",
   "metadata": {},
   "outputs": [],
   "source": [
    "# the engagement rate by dividing 'like_count' or 'comment_count' by 'view_count'.\n",
    "data['engagement_rate'] = data['like_count'] / data['view_count']"
   ]
  },
  {
   "cell_type": "code",
   "execution_count": 54,
   "id": "6c3754b8",
   "metadata": {},
   "outputs": [
    {
     "data": {
      "text/html": [
       "<div>\n",
       "<style scoped>\n",
       "    .dataframe tbody tr th:only-of-type {\n",
       "        vertical-align: middle;\n",
       "    }\n",
       "\n",
       "    .dataframe tbody tr th {\n",
       "        vertical-align: top;\n",
       "    }\n",
       "\n",
       "    .dataframe thead th {\n",
       "        text-align: right;\n",
       "    }\n",
       "</style>\n",
       "<table border=\"1\" class=\"dataframe\">\n",
       "  <thead>\n",
       "    <tr style=\"text-align: right;\">\n",
       "      <th></th>\n",
       "      <th>title</th>\n",
       "      <th>published_at</th>\n",
       "      <th>duration</th>\n",
       "      <th>view_count</th>\n",
       "      <th>like_count</th>\n",
       "      <th>comment_count</th>\n",
       "      <th>title_encoded</th>\n",
       "      <th>publish_year</th>\n",
       "      <th>publish_month</th>\n",
       "      <th>publish_day</th>\n",
       "      <th>publish_day_of_week</th>\n",
       "      <th>duration_seconds</th>\n",
       "      <th>engagement_rate</th>\n",
       "    </tr>\n",
       "  </thead>\n",
       "  <tbody>\n",
       "    <tr>\n",
       "      <th>0</th>\n",
       "      <td>Se Libró del ATAQUE de un Cocodrilo ❌🐊</td>\n",
       "      <td>2024-01-27 19:16:13+00:00</td>\n",
       "      <td>PT25S</td>\n",
       "      <td>39972377.0</td>\n",
       "      <td>1143891.0</td>\n",
       "      <td>8254.0</td>\n",
       "      <td>276</td>\n",
       "      <td>2024</td>\n",
       "      <td>1</td>\n",
       "      <td>27</td>\n",
       "      <td>5</td>\n",
       "      <td>25.0</td>\n",
       "      <td>0.028617</td>\n",
       "    </tr>\n",
       "    <tr>\n",
       "      <th>1</th>\n",
       "      <td>#Sareedrapping#pregnancydrapping#babyshower#sh...</td>\n",
       "      <td>2024-02-11 14:43:07+00:00</td>\n",
       "      <td>PT37S</td>\n",
       "      <td>37983493.0</td>\n",
       "      <td>1239925.0</td>\n",
       "      <td>2823.0</td>\n",
       "      <td>11</td>\n",
       "      <td>2024</td>\n",
       "      <td>2</td>\n",
       "      <td>11</td>\n",
       "      <td>6</td>\n",
       "      <td>37.0</td>\n",
       "      <td>0.032644</td>\n",
       "    </tr>\n",
       "  </tbody>\n",
       "</table>\n",
       "</div>"
      ],
      "text/plain": [
       "                                               title  \\\n",
       "0             Se Libró del ATAQUE de un Cocodrilo ❌🐊   \n",
       "1  #Sareedrapping#pregnancydrapping#babyshower#sh...   \n",
       "\n",
       "               published_at duration  view_count  like_count  comment_count  \\\n",
       "0 2024-01-27 19:16:13+00:00    PT25S  39972377.0   1143891.0         8254.0   \n",
       "1 2024-02-11 14:43:07+00:00    PT37S  37983493.0   1239925.0         2823.0   \n",
       "\n",
       "   title_encoded  publish_year  publish_month  publish_day  \\\n",
       "0            276          2024              1           27   \n",
       "1             11          2024              2           11   \n",
       "\n",
       "   publish_day_of_week  duration_seconds  engagement_rate  \n",
       "0                    5              25.0         0.028617  \n",
       "1                    6              37.0         0.032644  "
      ]
     },
     "execution_count": 54,
     "metadata": {},
     "output_type": "execute_result"
    }
   ],
   "source": [
    "data.head(2)"
   ]
  },
  {
   "cell_type": "code",
   "execution_count": 55,
   "id": "ed0d59e5",
   "metadata": {},
   "outputs": [],
   "source": [
    "#Video Title Length:\n",
    "#Add a feature indicating the length of the video title.\n",
    "data['title_length'] = data['title'].apply(lambda x: len(x))"
   ]
  },
  {
   "cell_type": "code",
   "execution_count": 56,
   "id": "abee72bc",
   "metadata": {},
   "outputs": [
    {
     "data": {
      "text/html": [
       "<div>\n",
       "<style scoped>\n",
       "    .dataframe tbody tr th:only-of-type {\n",
       "        vertical-align: middle;\n",
       "    }\n",
       "\n",
       "    .dataframe tbody tr th {\n",
       "        vertical-align: top;\n",
       "    }\n",
       "\n",
       "    .dataframe thead th {\n",
       "        text-align: right;\n",
       "    }\n",
       "</style>\n",
       "<table border=\"1\" class=\"dataframe\">\n",
       "  <thead>\n",
       "    <tr style=\"text-align: right;\">\n",
       "      <th></th>\n",
       "      <th>title</th>\n",
       "      <th>published_at</th>\n",
       "      <th>duration</th>\n",
       "      <th>view_count</th>\n",
       "      <th>like_count</th>\n",
       "      <th>comment_count</th>\n",
       "      <th>title_encoded</th>\n",
       "      <th>publish_year</th>\n",
       "      <th>publish_month</th>\n",
       "      <th>publish_day</th>\n",
       "      <th>publish_day_of_week</th>\n",
       "      <th>duration_seconds</th>\n",
       "      <th>engagement_rate</th>\n",
       "      <th>title_length</th>\n",
       "    </tr>\n",
       "  </thead>\n",
       "  <tbody>\n",
       "    <tr>\n",
       "      <th>0</th>\n",
       "      <td>Se Libró del ATAQUE de un Cocodrilo ❌🐊</td>\n",
       "      <td>2024-01-27 19:16:13+00:00</td>\n",
       "      <td>PT25S</td>\n",
       "      <td>39972377.0</td>\n",
       "      <td>1143891.0</td>\n",
       "      <td>8254.0</td>\n",
       "      <td>276</td>\n",
       "      <td>2024</td>\n",
       "      <td>1</td>\n",
       "      <td>27</td>\n",
       "      <td>5</td>\n",
       "      <td>25.0</td>\n",
       "      <td>0.028617</td>\n",
       "      <td>38</td>\n",
       "    </tr>\n",
       "    <tr>\n",
       "      <th>1</th>\n",
       "      <td>#Sareedrapping#pregnancydrapping#babyshower#sh...</td>\n",
       "      <td>2024-02-11 14:43:07+00:00</td>\n",
       "      <td>PT37S</td>\n",
       "      <td>37983493.0</td>\n",
       "      <td>1239925.0</td>\n",
       "      <td>2823.0</td>\n",
       "      <td>11</td>\n",
       "      <td>2024</td>\n",
       "      <td>2</td>\n",
       "      <td>11</td>\n",
       "      <td>6</td>\n",
       "      <td>37.0</td>\n",
       "      <td>0.032644</td>\n",
       "      <td>61</td>\n",
       "    </tr>\n",
       "  </tbody>\n",
       "</table>\n",
       "</div>"
      ],
      "text/plain": [
       "                                               title  \\\n",
       "0             Se Libró del ATAQUE de un Cocodrilo ❌🐊   \n",
       "1  #Sareedrapping#pregnancydrapping#babyshower#sh...   \n",
       "\n",
       "               published_at duration  view_count  like_count  comment_count  \\\n",
       "0 2024-01-27 19:16:13+00:00    PT25S  39972377.0   1143891.0         8254.0   \n",
       "1 2024-02-11 14:43:07+00:00    PT37S  37983493.0   1239925.0         2823.0   \n",
       "\n",
       "   title_encoded  publish_year  publish_month  publish_day  \\\n",
       "0            276          2024              1           27   \n",
       "1             11          2024              2           11   \n",
       "\n",
       "   publish_day_of_week  duration_seconds  engagement_rate  title_length  \n",
       "0                    5              25.0         0.028617            38  \n",
       "1                    6              37.0         0.032644            61  "
      ]
     },
     "execution_count": 56,
     "metadata": {},
     "output_type": "execute_result"
    }
   ],
   "source": [
    "data.head(2)"
   ]
  },
  {
   "cell_type": "code",
   "execution_count": 57,
   "id": "e53524f6",
   "metadata": {},
   "outputs": [],
   "source": [
    "#Hashtags Count:\n",
    "#Count the number of hashtags in the video title.\n",
    "data['hashtags_count'] = data['title'].apply(lambda x: x.count('#'))"
   ]
  },
  {
   "cell_type": "code",
   "execution_count": 58,
   "id": "7e0a3e7e",
   "metadata": {},
   "outputs": [
    {
     "data": {
      "text/html": [
       "<div>\n",
       "<style scoped>\n",
       "    .dataframe tbody tr th:only-of-type {\n",
       "        vertical-align: middle;\n",
       "    }\n",
       "\n",
       "    .dataframe tbody tr th {\n",
       "        vertical-align: top;\n",
       "    }\n",
       "\n",
       "    .dataframe thead th {\n",
       "        text-align: right;\n",
       "    }\n",
       "</style>\n",
       "<table border=\"1\" class=\"dataframe\">\n",
       "  <thead>\n",
       "    <tr style=\"text-align: right;\">\n",
       "      <th></th>\n",
       "      <th>title</th>\n",
       "      <th>published_at</th>\n",
       "      <th>duration</th>\n",
       "      <th>view_count</th>\n",
       "      <th>like_count</th>\n",
       "      <th>comment_count</th>\n",
       "      <th>title_encoded</th>\n",
       "      <th>publish_year</th>\n",
       "      <th>publish_month</th>\n",
       "      <th>publish_day</th>\n",
       "      <th>publish_day_of_week</th>\n",
       "      <th>duration_seconds</th>\n",
       "      <th>engagement_rate</th>\n",
       "      <th>title_length</th>\n",
       "      <th>hashtags_count</th>\n",
       "    </tr>\n",
       "  </thead>\n",
       "  <tbody>\n",
       "    <tr>\n",
       "      <th>0</th>\n",
       "      <td>Se Libró del ATAQUE de un Cocodrilo ❌🐊</td>\n",
       "      <td>2024-01-27 19:16:13+00:00</td>\n",
       "      <td>PT25S</td>\n",
       "      <td>39972377.0</td>\n",
       "      <td>1143891.0</td>\n",
       "      <td>8254.0</td>\n",
       "      <td>276</td>\n",
       "      <td>2024</td>\n",
       "      <td>1</td>\n",
       "      <td>27</td>\n",
       "      <td>5</td>\n",
       "      <td>25.0</td>\n",
       "      <td>0.028617</td>\n",
       "      <td>38</td>\n",
       "      <td>0</td>\n",
       "    </tr>\n",
       "    <tr>\n",
       "      <th>1</th>\n",
       "      <td>#Sareedrapping#pregnancydrapping#babyshower#sh...</td>\n",
       "      <td>2024-02-11 14:43:07+00:00</td>\n",
       "      <td>PT37S</td>\n",
       "      <td>37983493.0</td>\n",
       "      <td>1239925.0</td>\n",
       "      <td>2823.0</td>\n",
       "      <td>11</td>\n",
       "      <td>2024</td>\n",
       "      <td>2</td>\n",
       "      <td>11</td>\n",
       "      <td>6</td>\n",
       "      <td>37.0</td>\n",
       "      <td>0.032644</td>\n",
       "      <td>61</td>\n",
       "      <td>5</td>\n",
       "    </tr>\n",
       "  </tbody>\n",
       "</table>\n",
       "</div>"
      ],
      "text/plain": [
       "                                               title  \\\n",
       "0             Se Libró del ATAQUE de un Cocodrilo ❌🐊   \n",
       "1  #Sareedrapping#pregnancydrapping#babyshower#sh...   \n",
       "\n",
       "               published_at duration  view_count  like_count  comment_count  \\\n",
       "0 2024-01-27 19:16:13+00:00    PT25S  39972377.0   1143891.0         8254.0   \n",
       "1 2024-02-11 14:43:07+00:00    PT37S  37983493.0   1239925.0         2823.0   \n",
       "\n",
       "   title_encoded  publish_year  publish_month  publish_day  \\\n",
       "0            276          2024              1           27   \n",
       "1             11          2024              2           11   \n",
       "\n",
       "   publish_day_of_week  duration_seconds  engagement_rate  title_length  \\\n",
       "0                    5              25.0         0.028617            38   \n",
       "1                    6              37.0         0.032644            61   \n",
       "\n",
       "   hashtags_count  \n",
       "0               0  \n",
       "1               5  "
      ]
     },
     "execution_count": 58,
     "metadata": {},
     "output_type": "execute_result"
    }
   ],
   "source": [
    "data.head(2)"
   ]
  },
  {
   "cell_type": "code",
   "execution_count": 59,
   "id": "7ad6198f",
   "metadata": {},
   "outputs": [],
   "source": [
    "#data = pd.get_dummies(data, columns=['publish_day_of_week'], prefix='day_of_week', drop_first=True)"
   ]
  },
  {
   "cell_type": "markdown",
   "id": "94ef7b04",
   "metadata": {},
   "source": [
    "## Data Splitting"
   ]
  },
  {
   "cell_type": "markdown",
   "id": "213d8c16",
   "metadata": {},
   "source": [
    "### Segregating variables: Independent and Dependent Variables"
   ]
  },
  {
   "cell_type": "code",
   "execution_count": 60,
   "id": "ab31922a",
   "metadata": {},
   "outputs": [
    {
     "data": {
      "text/plain": [
       "((598, 14), (598,))"
      ]
     },
     "execution_count": 60,
     "metadata": {},
     "output_type": "execute_result"
    }
   ],
   "source": [
    "#seperating independent and dependent variables\n",
    "x = data.drop(['view_count'], axis=1)\n",
    "y = data['view_count']\n",
    "x.shape, y.shape"
   ]
  },
  {
   "cell_type": "markdown",
   "id": "b26062af",
   "metadata": {},
   "source": [
    "### Splitting the data into train set and the test set"
   ]
  },
  {
   "cell_type": "code",
   "execution_count": 61,
   "id": "94859c8e",
   "metadata": {},
   "outputs": [
    {
     "name": "stdout",
     "output_type": "stream",
     "text": [
      "X_train shape: (478, 4)\n",
      "X_test shape: (120, 4)\n",
      "y_train shape: (478,)\n",
      "y_test shape: (120,)\n"
     ]
    }
   ],
   "source": [
    "from sklearn.model_selection import train_test_split\n",
    "\n",
    "# Assuming 'data' is your DataFrame with feature columns and target variable\n",
    "# Let's assume you want to predict 'view_count', so it will be your target variable (y)\n",
    "X = data[['published_at', 'duration', 'like_count', 'comment_count']]\n",
    "y = data['view_count']\n",
    "\n",
    "# Split the data into training and testing sets (e.g., 80% train, 20% test)\n",
    "X_train, X_test, y_train, y_test = train_test_split(X, y, test_size=0.2, random_state=42)\n",
    "\n",
    "# Display the shape of the resulting sets\n",
    "print(\"X_train shape:\", X_train.shape)\n",
    "print(\"X_test shape:\", X_test.shape)\n",
    "print(\"y_train shape:\", y_train.shape)\n",
    "print(\"y_test shape:\", y_test.shape)\n"
   ]
  },
  {
   "cell_type": "markdown",
   "id": "16144936",
   "metadata": {},
   "source": [
    "## Model Selection"
   ]
  },
  {
   "cell_type": "code",
   "execution_count": 62,
   "id": "9efe89f2",
   "metadata": {},
   "outputs": [],
   "source": [
    "from sklearn.linear_model import LinearRegression\n",
    "model = LinearRegression()"
   ]
  },
  {
   "cell_type": "code",
   "execution_count": 63,
   "id": "7363fc0d",
   "metadata": {},
   "outputs": [],
   "source": [
    "from sklearn.model_selection import train_test_split\n",
    "# Assuming these are the features you want to use\n",
    "X = data[['like_count', 'comment_count']]  \n",
    "y = data['view_count']"
   ]
  },
  {
   "cell_type": "code",
   "execution_count": 64,
   "id": "fc7c8156",
   "metadata": {},
   "outputs": [],
   "source": [
    "# Split the data into training and testing sets (e.g., 80% train, 20% test)\n",
    "X_train, X_test, y_train, y_test = train_test_split(X, y, test_size=0.2, random_state=42)"
   ]
  },
  {
   "cell_type": "code",
   "execution_count": 65,
   "id": "e6cfa9f0",
   "metadata": {},
   "outputs": [
    {
     "data": {
      "text/html": [
       "<style>#sk-container-id-1 {\n",
       "  /* Definition of color scheme common for light and dark mode */\n",
       "  --sklearn-color-text: black;\n",
       "  --sklearn-color-line: gray;\n",
       "  /* Definition of color scheme for unfitted estimators */\n",
       "  --sklearn-color-unfitted-level-0: #fff5e6;\n",
       "  --sklearn-color-unfitted-level-1: #f6e4d2;\n",
       "  --sklearn-color-unfitted-level-2: #ffe0b3;\n",
       "  --sklearn-color-unfitted-level-3: chocolate;\n",
       "  /* Definition of color scheme for fitted estimators */\n",
       "  --sklearn-color-fitted-level-0: #f0f8ff;\n",
       "  --sklearn-color-fitted-level-1: #d4ebff;\n",
       "  --sklearn-color-fitted-level-2: #b3dbfd;\n",
       "  --sklearn-color-fitted-level-3: cornflowerblue;\n",
       "\n",
       "  /* Specific color for light theme */\n",
       "  --sklearn-color-text-on-default-background: var(--sg-text-color, var(--theme-code-foreground, var(--jp-content-font-color1, black)));\n",
       "  --sklearn-color-background: var(--sg-background-color, var(--theme-background, var(--jp-layout-color0, white)));\n",
       "  --sklearn-color-border-box: var(--sg-text-color, var(--theme-code-foreground, var(--jp-content-font-color1, black)));\n",
       "  --sklearn-color-icon: #696969;\n",
       "\n",
       "  @media (prefers-color-scheme: dark) {\n",
       "    /* Redefinition of color scheme for dark theme */\n",
       "    --sklearn-color-text-on-default-background: var(--sg-text-color, var(--theme-code-foreground, var(--jp-content-font-color1, white)));\n",
       "    --sklearn-color-background: var(--sg-background-color, var(--theme-background, var(--jp-layout-color0, #111)));\n",
       "    --sklearn-color-border-box: var(--sg-text-color, var(--theme-code-foreground, var(--jp-content-font-color1, white)));\n",
       "    --sklearn-color-icon: #878787;\n",
       "  }\n",
       "}\n",
       "\n",
       "#sk-container-id-1 {\n",
       "  color: var(--sklearn-color-text);\n",
       "}\n",
       "\n",
       "#sk-container-id-1 pre {\n",
       "  padding: 0;\n",
       "}\n",
       "\n",
       "#sk-container-id-1 input.sk-hidden--visually {\n",
       "  border: 0;\n",
       "  clip: rect(1px 1px 1px 1px);\n",
       "  clip: rect(1px, 1px, 1px, 1px);\n",
       "  height: 1px;\n",
       "  margin: -1px;\n",
       "  overflow: hidden;\n",
       "  padding: 0;\n",
       "  position: absolute;\n",
       "  width: 1px;\n",
       "}\n",
       "\n",
       "#sk-container-id-1 div.sk-dashed-wrapped {\n",
       "  border: 1px dashed var(--sklearn-color-line);\n",
       "  margin: 0 0.4em 0.5em 0.4em;\n",
       "  box-sizing: border-box;\n",
       "  padding-bottom: 0.4em;\n",
       "  background-color: var(--sklearn-color-background);\n",
       "}\n",
       "\n",
       "#sk-container-id-1 div.sk-container {\n",
       "  /* jupyter's `normalize.less` sets `[hidden] { display: none; }`\n",
       "     but bootstrap.min.css set `[hidden] { display: none !important; }`\n",
       "     so we also need the `!important` here to be able to override the\n",
       "     default hidden behavior on the sphinx rendered scikit-learn.org.\n",
       "     See: https://github.com/scikit-learn/scikit-learn/issues/21755 */\n",
       "  display: inline-block !important;\n",
       "  position: relative;\n",
       "}\n",
       "\n",
       "#sk-container-id-1 div.sk-text-repr-fallback {\n",
       "  display: none;\n",
       "}\n",
       "\n",
       "div.sk-parallel-item,\n",
       "div.sk-serial,\n",
       "div.sk-item {\n",
       "  /* draw centered vertical line to link estimators */\n",
       "  background-image: linear-gradient(var(--sklearn-color-text-on-default-background), var(--sklearn-color-text-on-default-background));\n",
       "  background-size: 2px 100%;\n",
       "  background-repeat: no-repeat;\n",
       "  background-position: center center;\n",
       "}\n",
       "\n",
       "/* Parallel-specific style estimator block */\n",
       "\n",
       "#sk-container-id-1 div.sk-parallel-item::after {\n",
       "  content: \"\";\n",
       "  width: 100%;\n",
       "  border-bottom: 2px solid var(--sklearn-color-text-on-default-background);\n",
       "  flex-grow: 1;\n",
       "}\n",
       "\n",
       "#sk-container-id-1 div.sk-parallel {\n",
       "  display: flex;\n",
       "  align-items: stretch;\n",
       "  justify-content: center;\n",
       "  background-color: var(--sklearn-color-background);\n",
       "  position: relative;\n",
       "}\n",
       "\n",
       "#sk-container-id-1 div.sk-parallel-item {\n",
       "  display: flex;\n",
       "  flex-direction: column;\n",
       "}\n",
       "\n",
       "#sk-container-id-1 div.sk-parallel-item:first-child::after {\n",
       "  align-self: flex-end;\n",
       "  width: 50%;\n",
       "}\n",
       "\n",
       "#sk-container-id-1 div.sk-parallel-item:last-child::after {\n",
       "  align-self: flex-start;\n",
       "  width: 50%;\n",
       "}\n",
       "\n",
       "#sk-container-id-1 div.sk-parallel-item:only-child::after {\n",
       "  width: 0;\n",
       "}\n",
       "\n",
       "/* Serial-specific style estimator block */\n",
       "\n",
       "#sk-container-id-1 div.sk-serial {\n",
       "  display: flex;\n",
       "  flex-direction: column;\n",
       "  align-items: center;\n",
       "  background-color: var(--sklearn-color-background);\n",
       "  padding-right: 1em;\n",
       "  padding-left: 1em;\n",
       "}\n",
       "\n",
       "\n",
       "/* Toggleable style: style used for estimator/Pipeline/ColumnTransformer box that is\n",
       "clickable and can be expanded/collapsed.\n",
       "- Pipeline and ColumnTransformer use this feature and define the default style\n",
       "- Estimators will overwrite some part of the style using the `sk-estimator` class\n",
       "*/\n",
       "\n",
       "/* Pipeline and ColumnTransformer style (default) */\n",
       "\n",
       "#sk-container-id-1 div.sk-toggleable {\n",
       "  /* Default theme specific background. It is overwritten whether we have a\n",
       "  specific estimator or a Pipeline/ColumnTransformer */\n",
       "  background-color: var(--sklearn-color-background);\n",
       "}\n",
       "\n",
       "/* Toggleable label */\n",
       "#sk-container-id-1 label.sk-toggleable__label {\n",
       "  cursor: pointer;\n",
       "  display: block;\n",
       "  width: 100%;\n",
       "  margin-bottom: 0;\n",
       "  padding: 0.5em;\n",
       "  box-sizing: border-box;\n",
       "  text-align: center;\n",
       "}\n",
       "\n",
       "#sk-container-id-1 label.sk-toggleable__label-arrow:before {\n",
       "  /* Arrow on the left of the label */\n",
       "  content: \"▸\";\n",
       "  float: left;\n",
       "  margin-right: 0.25em;\n",
       "  color: var(--sklearn-color-icon);\n",
       "}\n",
       "\n",
       "#sk-container-id-1 label.sk-toggleable__label-arrow:hover:before {\n",
       "  color: var(--sklearn-color-text);\n",
       "}\n",
       "\n",
       "/* Toggleable content - dropdown */\n",
       "\n",
       "#sk-container-id-1 div.sk-toggleable__content {\n",
       "  max-height: 0;\n",
       "  max-width: 0;\n",
       "  overflow: hidden;\n",
       "  text-align: left;\n",
       "  /* unfitted */\n",
       "  background-color: var(--sklearn-color-unfitted-level-0);\n",
       "}\n",
       "\n",
       "#sk-container-id-1 div.sk-toggleable__content.fitted {\n",
       "  /* fitted */\n",
       "  background-color: var(--sklearn-color-fitted-level-0);\n",
       "}\n",
       "\n",
       "#sk-container-id-1 div.sk-toggleable__content pre {\n",
       "  margin: 0.2em;\n",
       "  border-radius: 0.25em;\n",
       "  color: var(--sklearn-color-text);\n",
       "  /* unfitted */\n",
       "  background-color: var(--sklearn-color-unfitted-level-0);\n",
       "}\n",
       "\n",
       "#sk-container-id-1 div.sk-toggleable__content.fitted pre {\n",
       "  /* unfitted */\n",
       "  background-color: var(--sklearn-color-fitted-level-0);\n",
       "}\n",
       "\n",
       "#sk-container-id-1 input.sk-toggleable__control:checked~div.sk-toggleable__content {\n",
       "  /* Expand drop-down */\n",
       "  max-height: 200px;\n",
       "  max-width: 100%;\n",
       "  overflow: auto;\n",
       "}\n",
       "\n",
       "#sk-container-id-1 input.sk-toggleable__control:checked~label.sk-toggleable__label-arrow:before {\n",
       "  content: \"▾\";\n",
       "}\n",
       "\n",
       "/* Pipeline/ColumnTransformer-specific style */\n",
       "\n",
       "#sk-container-id-1 div.sk-label input.sk-toggleable__control:checked~label.sk-toggleable__label {\n",
       "  color: var(--sklearn-color-text);\n",
       "  background-color: var(--sklearn-color-unfitted-level-2);\n",
       "}\n",
       "\n",
       "#sk-container-id-1 div.sk-label.fitted input.sk-toggleable__control:checked~label.sk-toggleable__label {\n",
       "  background-color: var(--sklearn-color-fitted-level-2);\n",
       "}\n",
       "\n",
       "/* Estimator-specific style */\n",
       "\n",
       "/* Colorize estimator box */\n",
       "#sk-container-id-1 div.sk-estimator input.sk-toggleable__control:checked~label.sk-toggleable__label {\n",
       "  /* unfitted */\n",
       "  background-color: var(--sklearn-color-unfitted-level-2);\n",
       "}\n",
       "\n",
       "#sk-container-id-1 div.sk-estimator.fitted input.sk-toggleable__control:checked~label.sk-toggleable__label {\n",
       "  /* fitted */\n",
       "  background-color: var(--sklearn-color-fitted-level-2);\n",
       "}\n",
       "\n",
       "#sk-container-id-1 div.sk-label label.sk-toggleable__label,\n",
       "#sk-container-id-1 div.sk-label label {\n",
       "  /* The background is the default theme color */\n",
       "  color: var(--sklearn-color-text-on-default-background);\n",
       "}\n",
       "\n",
       "/* On hover, darken the color of the background */\n",
       "#sk-container-id-1 div.sk-label:hover label.sk-toggleable__label {\n",
       "  color: var(--sklearn-color-text);\n",
       "  background-color: var(--sklearn-color-unfitted-level-2);\n",
       "}\n",
       "\n",
       "/* Label box, darken color on hover, fitted */\n",
       "#sk-container-id-1 div.sk-label.fitted:hover label.sk-toggleable__label.fitted {\n",
       "  color: var(--sklearn-color-text);\n",
       "  background-color: var(--sklearn-color-fitted-level-2);\n",
       "}\n",
       "\n",
       "/* Estimator label */\n",
       "\n",
       "#sk-container-id-1 div.sk-label label {\n",
       "  font-family: monospace;\n",
       "  font-weight: bold;\n",
       "  display: inline-block;\n",
       "  line-height: 1.2em;\n",
       "}\n",
       "\n",
       "#sk-container-id-1 div.sk-label-container {\n",
       "  text-align: center;\n",
       "}\n",
       "\n",
       "/* Estimator-specific */\n",
       "#sk-container-id-1 div.sk-estimator {\n",
       "  font-family: monospace;\n",
       "  border: 1px dotted var(--sklearn-color-border-box);\n",
       "  border-radius: 0.25em;\n",
       "  box-sizing: border-box;\n",
       "  margin-bottom: 0.5em;\n",
       "  /* unfitted */\n",
       "  background-color: var(--sklearn-color-unfitted-level-0);\n",
       "}\n",
       "\n",
       "#sk-container-id-1 div.sk-estimator.fitted {\n",
       "  /* fitted */\n",
       "  background-color: var(--sklearn-color-fitted-level-0);\n",
       "}\n",
       "\n",
       "/* on hover */\n",
       "#sk-container-id-1 div.sk-estimator:hover {\n",
       "  /* unfitted */\n",
       "  background-color: var(--sklearn-color-unfitted-level-2);\n",
       "}\n",
       "\n",
       "#sk-container-id-1 div.sk-estimator.fitted:hover {\n",
       "  /* fitted */\n",
       "  background-color: var(--sklearn-color-fitted-level-2);\n",
       "}\n",
       "\n",
       "/* Specification for estimator info (e.g. \"i\" and \"?\") */\n",
       "\n",
       "/* Common style for \"i\" and \"?\" */\n",
       "\n",
       ".sk-estimator-doc-link,\n",
       "a:link.sk-estimator-doc-link,\n",
       "a:visited.sk-estimator-doc-link {\n",
       "  float: right;\n",
       "  font-size: smaller;\n",
       "  line-height: 1em;\n",
       "  font-family: monospace;\n",
       "  background-color: var(--sklearn-color-background);\n",
       "  border-radius: 1em;\n",
       "  height: 1em;\n",
       "  width: 1em;\n",
       "  text-decoration: none !important;\n",
       "  margin-left: 1ex;\n",
       "  /* unfitted */\n",
       "  border: var(--sklearn-color-unfitted-level-1) 1pt solid;\n",
       "  color: var(--sklearn-color-unfitted-level-1);\n",
       "}\n",
       "\n",
       ".sk-estimator-doc-link.fitted,\n",
       "a:link.sk-estimator-doc-link.fitted,\n",
       "a:visited.sk-estimator-doc-link.fitted {\n",
       "  /* fitted */\n",
       "  border: var(--sklearn-color-fitted-level-1) 1pt solid;\n",
       "  color: var(--sklearn-color-fitted-level-1);\n",
       "}\n",
       "\n",
       "/* On hover */\n",
       "div.sk-estimator:hover .sk-estimator-doc-link:hover,\n",
       ".sk-estimator-doc-link:hover,\n",
       "div.sk-label-container:hover .sk-estimator-doc-link:hover,\n",
       ".sk-estimator-doc-link:hover {\n",
       "  /* unfitted */\n",
       "  background-color: var(--sklearn-color-unfitted-level-3);\n",
       "  color: var(--sklearn-color-background);\n",
       "  text-decoration: none;\n",
       "}\n",
       "\n",
       "div.sk-estimator.fitted:hover .sk-estimator-doc-link.fitted:hover,\n",
       ".sk-estimator-doc-link.fitted:hover,\n",
       "div.sk-label-container:hover .sk-estimator-doc-link.fitted:hover,\n",
       ".sk-estimator-doc-link.fitted:hover {\n",
       "  /* fitted */\n",
       "  background-color: var(--sklearn-color-fitted-level-3);\n",
       "  color: var(--sklearn-color-background);\n",
       "  text-decoration: none;\n",
       "}\n",
       "\n",
       "/* Span, style for the box shown on hovering the info icon */\n",
       ".sk-estimator-doc-link span {\n",
       "  display: none;\n",
       "  z-index: 9999;\n",
       "  position: relative;\n",
       "  font-weight: normal;\n",
       "  right: .2ex;\n",
       "  padding: .5ex;\n",
       "  margin: .5ex;\n",
       "  width: min-content;\n",
       "  min-width: 20ex;\n",
       "  max-width: 50ex;\n",
       "  color: var(--sklearn-color-text);\n",
       "  box-shadow: 2pt 2pt 4pt #999;\n",
       "  /* unfitted */\n",
       "  background: var(--sklearn-color-unfitted-level-0);\n",
       "  border: .5pt solid var(--sklearn-color-unfitted-level-3);\n",
       "}\n",
       "\n",
       ".sk-estimator-doc-link.fitted span {\n",
       "  /* fitted */\n",
       "  background: var(--sklearn-color-fitted-level-0);\n",
       "  border: var(--sklearn-color-fitted-level-3);\n",
       "}\n",
       "\n",
       ".sk-estimator-doc-link:hover span {\n",
       "  display: block;\n",
       "}\n",
       "\n",
       "/* \"?\"-specific style due to the `<a>` HTML tag */\n",
       "\n",
       "#sk-container-id-1 a.estimator_doc_link {\n",
       "  float: right;\n",
       "  font-size: 1rem;\n",
       "  line-height: 1em;\n",
       "  font-family: monospace;\n",
       "  background-color: var(--sklearn-color-background);\n",
       "  border-radius: 1rem;\n",
       "  height: 1rem;\n",
       "  width: 1rem;\n",
       "  text-decoration: none;\n",
       "  /* unfitted */\n",
       "  color: var(--sklearn-color-unfitted-level-1);\n",
       "  border: var(--sklearn-color-unfitted-level-1) 1pt solid;\n",
       "}\n",
       "\n",
       "#sk-container-id-1 a.estimator_doc_link.fitted {\n",
       "  /* fitted */\n",
       "  border: var(--sklearn-color-fitted-level-1) 1pt solid;\n",
       "  color: var(--sklearn-color-fitted-level-1);\n",
       "}\n",
       "\n",
       "/* On hover */\n",
       "#sk-container-id-1 a.estimator_doc_link:hover {\n",
       "  /* unfitted */\n",
       "  background-color: var(--sklearn-color-unfitted-level-3);\n",
       "  color: var(--sklearn-color-background);\n",
       "  text-decoration: none;\n",
       "}\n",
       "\n",
       "#sk-container-id-1 a.estimator_doc_link.fitted:hover {\n",
       "  /* fitted */\n",
       "  background-color: var(--sklearn-color-fitted-level-3);\n",
       "}\n",
       "</style><div id=\"sk-container-id-1\" class=\"sk-top-container\"><div class=\"sk-text-repr-fallback\"><pre>LinearRegression()</pre><b>In a Jupyter environment, please rerun this cell to show the HTML representation or trust the notebook. <br />On GitHub, the HTML representation is unable to render, please try loading this page with nbviewer.org.</b></div><div class=\"sk-container\" hidden><div class=\"sk-item\"><div class=\"sk-estimator fitted sk-toggleable\"><input class=\"sk-toggleable__control sk-hidden--visually\" id=\"sk-estimator-id-1\" type=\"checkbox\" checked><label for=\"sk-estimator-id-1\" class=\"sk-toggleable__label fitted sk-toggleable__label-arrow fitted\">&nbsp;&nbsp;LinearRegression<a class=\"sk-estimator-doc-link fitted\" rel=\"noreferrer\" target=\"_blank\" href=\"https://scikit-learn.org/1.4/modules/generated/sklearn.linear_model.LinearRegression.html\">?<span>Documentation for LinearRegression</span></a><span class=\"sk-estimator-doc-link fitted\">i<span>Fitted</span></span></label><div class=\"sk-toggleable__content fitted\"><pre>LinearRegression()</pre></div> </div></div></div></div>"
      ],
      "text/plain": [
       "LinearRegression()"
      ]
     },
     "execution_count": 65,
     "metadata": {},
     "output_type": "execute_result"
    }
   ],
   "source": [
    "# Initialize and train the Linear Regression model\n",
    "model = LinearRegression()\n",
    "model.fit(X_train, y_train)"
   ]
  },
  {
   "cell_type": "code",
   "execution_count": 66,
   "id": "e874564f",
   "metadata": {},
   "outputs": [],
   "source": [
    "# Make predictions on the test set\n",
    "y_pred = model.predict(X_test)"
   ]
  },
  {
   "cell_type": "code",
   "execution_count": 67,
   "id": "6c84a872",
   "metadata": {},
   "outputs": [],
   "source": [
    "from sklearn.metrics import mean_squared_error, r2_score\n",
    "lr_mse = mean_squared_error(y_test, y_pred)\n",
    "lr_r2 = r2_score(y_test, y_pred)"
   ]
  },
  {
   "cell_type": "code",
   "execution_count": 68,
   "id": "d1a75fba",
   "metadata": {},
   "outputs": [
    {
     "name": "stdout",
     "output_type": "stream",
     "text": [
      "Mean Squared Error: 4635725727334.291\n",
      "R-squared: 0.7083492531384997\n"
     ]
    }
   ],
   "source": [
    "# Display the results\n",
    "print(\"Mean Squared Error:\", lr_mse)\n",
    "print(\"R-squared:\", lr_r2)"
   ]
  },
  {
   "cell_type": "code",
   "execution_count": 69,
   "id": "d1aff526",
   "metadata": {},
   "outputs": [],
   "source": [
    "from sklearn.tree import DecisionTreeRegressor\n",
    "model = DecisionTreeRegressor()"
   ]
  },
  {
   "cell_type": "code",
   "execution_count": 70,
   "id": "01efdd95",
   "metadata": {},
   "outputs": [
    {
     "data": {
      "text/html": [
       "<style>#sk-container-id-2 {\n",
       "  /* Definition of color scheme common for light and dark mode */\n",
       "  --sklearn-color-text: black;\n",
       "  --sklearn-color-line: gray;\n",
       "  /* Definition of color scheme for unfitted estimators */\n",
       "  --sklearn-color-unfitted-level-0: #fff5e6;\n",
       "  --sklearn-color-unfitted-level-1: #f6e4d2;\n",
       "  --sklearn-color-unfitted-level-2: #ffe0b3;\n",
       "  --sklearn-color-unfitted-level-3: chocolate;\n",
       "  /* Definition of color scheme for fitted estimators */\n",
       "  --sklearn-color-fitted-level-0: #f0f8ff;\n",
       "  --sklearn-color-fitted-level-1: #d4ebff;\n",
       "  --sklearn-color-fitted-level-2: #b3dbfd;\n",
       "  --sklearn-color-fitted-level-3: cornflowerblue;\n",
       "\n",
       "  /* Specific color for light theme */\n",
       "  --sklearn-color-text-on-default-background: var(--sg-text-color, var(--theme-code-foreground, var(--jp-content-font-color1, black)));\n",
       "  --sklearn-color-background: var(--sg-background-color, var(--theme-background, var(--jp-layout-color0, white)));\n",
       "  --sklearn-color-border-box: var(--sg-text-color, var(--theme-code-foreground, var(--jp-content-font-color1, black)));\n",
       "  --sklearn-color-icon: #696969;\n",
       "\n",
       "  @media (prefers-color-scheme: dark) {\n",
       "    /* Redefinition of color scheme for dark theme */\n",
       "    --sklearn-color-text-on-default-background: var(--sg-text-color, var(--theme-code-foreground, var(--jp-content-font-color1, white)));\n",
       "    --sklearn-color-background: var(--sg-background-color, var(--theme-background, var(--jp-layout-color0, #111)));\n",
       "    --sklearn-color-border-box: var(--sg-text-color, var(--theme-code-foreground, var(--jp-content-font-color1, white)));\n",
       "    --sklearn-color-icon: #878787;\n",
       "  }\n",
       "}\n",
       "\n",
       "#sk-container-id-2 {\n",
       "  color: var(--sklearn-color-text);\n",
       "}\n",
       "\n",
       "#sk-container-id-2 pre {\n",
       "  padding: 0;\n",
       "}\n",
       "\n",
       "#sk-container-id-2 input.sk-hidden--visually {\n",
       "  border: 0;\n",
       "  clip: rect(1px 1px 1px 1px);\n",
       "  clip: rect(1px, 1px, 1px, 1px);\n",
       "  height: 1px;\n",
       "  margin: -1px;\n",
       "  overflow: hidden;\n",
       "  padding: 0;\n",
       "  position: absolute;\n",
       "  width: 1px;\n",
       "}\n",
       "\n",
       "#sk-container-id-2 div.sk-dashed-wrapped {\n",
       "  border: 1px dashed var(--sklearn-color-line);\n",
       "  margin: 0 0.4em 0.5em 0.4em;\n",
       "  box-sizing: border-box;\n",
       "  padding-bottom: 0.4em;\n",
       "  background-color: var(--sklearn-color-background);\n",
       "}\n",
       "\n",
       "#sk-container-id-2 div.sk-container {\n",
       "  /* jupyter's `normalize.less` sets `[hidden] { display: none; }`\n",
       "     but bootstrap.min.css set `[hidden] { display: none !important; }`\n",
       "     so we also need the `!important` here to be able to override the\n",
       "     default hidden behavior on the sphinx rendered scikit-learn.org.\n",
       "     See: https://github.com/scikit-learn/scikit-learn/issues/21755 */\n",
       "  display: inline-block !important;\n",
       "  position: relative;\n",
       "}\n",
       "\n",
       "#sk-container-id-2 div.sk-text-repr-fallback {\n",
       "  display: none;\n",
       "}\n",
       "\n",
       "div.sk-parallel-item,\n",
       "div.sk-serial,\n",
       "div.sk-item {\n",
       "  /* draw centered vertical line to link estimators */\n",
       "  background-image: linear-gradient(var(--sklearn-color-text-on-default-background), var(--sklearn-color-text-on-default-background));\n",
       "  background-size: 2px 100%;\n",
       "  background-repeat: no-repeat;\n",
       "  background-position: center center;\n",
       "}\n",
       "\n",
       "/* Parallel-specific style estimator block */\n",
       "\n",
       "#sk-container-id-2 div.sk-parallel-item::after {\n",
       "  content: \"\";\n",
       "  width: 100%;\n",
       "  border-bottom: 2px solid var(--sklearn-color-text-on-default-background);\n",
       "  flex-grow: 1;\n",
       "}\n",
       "\n",
       "#sk-container-id-2 div.sk-parallel {\n",
       "  display: flex;\n",
       "  align-items: stretch;\n",
       "  justify-content: center;\n",
       "  background-color: var(--sklearn-color-background);\n",
       "  position: relative;\n",
       "}\n",
       "\n",
       "#sk-container-id-2 div.sk-parallel-item {\n",
       "  display: flex;\n",
       "  flex-direction: column;\n",
       "}\n",
       "\n",
       "#sk-container-id-2 div.sk-parallel-item:first-child::after {\n",
       "  align-self: flex-end;\n",
       "  width: 50%;\n",
       "}\n",
       "\n",
       "#sk-container-id-2 div.sk-parallel-item:last-child::after {\n",
       "  align-self: flex-start;\n",
       "  width: 50%;\n",
       "}\n",
       "\n",
       "#sk-container-id-2 div.sk-parallel-item:only-child::after {\n",
       "  width: 0;\n",
       "}\n",
       "\n",
       "/* Serial-specific style estimator block */\n",
       "\n",
       "#sk-container-id-2 div.sk-serial {\n",
       "  display: flex;\n",
       "  flex-direction: column;\n",
       "  align-items: center;\n",
       "  background-color: var(--sklearn-color-background);\n",
       "  padding-right: 1em;\n",
       "  padding-left: 1em;\n",
       "}\n",
       "\n",
       "\n",
       "/* Toggleable style: style used for estimator/Pipeline/ColumnTransformer box that is\n",
       "clickable and can be expanded/collapsed.\n",
       "- Pipeline and ColumnTransformer use this feature and define the default style\n",
       "- Estimators will overwrite some part of the style using the `sk-estimator` class\n",
       "*/\n",
       "\n",
       "/* Pipeline and ColumnTransformer style (default) */\n",
       "\n",
       "#sk-container-id-2 div.sk-toggleable {\n",
       "  /* Default theme specific background. It is overwritten whether we have a\n",
       "  specific estimator or a Pipeline/ColumnTransformer */\n",
       "  background-color: var(--sklearn-color-background);\n",
       "}\n",
       "\n",
       "/* Toggleable label */\n",
       "#sk-container-id-2 label.sk-toggleable__label {\n",
       "  cursor: pointer;\n",
       "  display: block;\n",
       "  width: 100%;\n",
       "  margin-bottom: 0;\n",
       "  padding: 0.5em;\n",
       "  box-sizing: border-box;\n",
       "  text-align: center;\n",
       "}\n",
       "\n",
       "#sk-container-id-2 label.sk-toggleable__label-arrow:before {\n",
       "  /* Arrow on the left of the label */\n",
       "  content: \"▸\";\n",
       "  float: left;\n",
       "  margin-right: 0.25em;\n",
       "  color: var(--sklearn-color-icon);\n",
       "}\n",
       "\n",
       "#sk-container-id-2 label.sk-toggleable__label-arrow:hover:before {\n",
       "  color: var(--sklearn-color-text);\n",
       "}\n",
       "\n",
       "/* Toggleable content - dropdown */\n",
       "\n",
       "#sk-container-id-2 div.sk-toggleable__content {\n",
       "  max-height: 0;\n",
       "  max-width: 0;\n",
       "  overflow: hidden;\n",
       "  text-align: left;\n",
       "  /* unfitted */\n",
       "  background-color: var(--sklearn-color-unfitted-level-0);\n",
       "}\n",
       "\n",
       "#sk-container-id-2 div.sk-toggleable__content.fitted {\n",
       "  /* fitted */\n",
       "  background-color: var(--sklearn-color-fitted-level-0);\n",
       "}\n",
       "\n",
       "#sk-container-id-2 div.sk-toggleable__content pre {\n",
       "  margin: 0.2em;\n",
       "  border-radius: 0.25em;\n",
       "  color: var(--sklearn-color-text);\n",
       "  /* unfitted */\n",
       "  background-color: var(--sklearn-color-unfitted-level-0);\n",
       "}\n",
       "\n",
       "#sk-container-id-2 div.sk-toggleable__content.fitted pre {\n",
       "  /* unfitted */\n",
       "  background-color: var(--sklearn-color-fitted-level-0);\n",
       "}\n",
       "\n",
       "#sk-container-id-2 input.sk-toggleable__control:checked~div.sk-toggleable__content {\n",
       "  /* Expand drop-down */\n",
       "  max-height: 200px;\n",
       "  max-width: 100%;\n",
       "  overflow: auto;\n",
       "}\n",
       "\n",
       "#sk-container-id-2 input.sk-toggleable__control:checked~label.sk-toggleable__label-arrow:before {\n",
       "  content: \"▾\";\n",
       "}\n",
       "\n",
       "/* Pipeline/ColumnTransformer-specific style */\n",
       "\n",
       "#sk-container-id-2 div.sk-label input.sk-toggleable__control:checked~label.sk-toggleable__label {\n",
       "  color: var(--sklearn-color-text);\n",
       "  background-color: var(--sklearn-color-unfitted-level-2);\n",
       "}\n",
       "\n",
       "#sk-container-id-2 div.sk-label.fitted input.sk-toggleable__control:checked~label.sk-toggleable__label {\n",
       "  background-color: var(--sklearn-color-fitted-level-2);\n",
       "}\n",
       "\n",
       "/* Estimator-specific style */\n",
       "\n",
       "/* Colorize estimator box */\n",
       "#sk-container-id-2 div.sk-estimator input.sk-toggleable__control:checked~label.sk-toggleable__label {\n",
       "  /* unfitted */\n",
       "  background-color: var(--sklearn-color-unfitted-level-2);\n",
       "}\n",
       "\n",
       "#sk-container-id-2 div.sk-estimator.fitted input.sk-toggleable__control:checked~label.sk-toggleable__label {\n",
       "  /* fitted */\n",
       "  background-color: var(--sklearn-color-fitted-level-2);\n",
       "}\n",
       "\n",
       "#sk-container-id-2 div.sk-label label.sk-toggleable__label,\n",
       "#sk-container-id-2 div.sk-label label {\n",
       "  /* The background is the default theme color */\n",
       "  color: var(--sklearn-color-text-on-default-background);\n",
       "}\n",
       "\n",
       "/* On hover, darken the color of the background */\n",
       "#sk-container-id-2 div.sk-label:hover label.sk-toggleable__label {\n",
       "  color: var(--sklearn-color-text);\n",
       "  background-color: var(--sklearn-color-unfitted-level-2);\n",
       "}\n",
       "\n",
       "/* Label box, darken color on hover, fitted */\n",
       "#sk-container-id-2 div.sk-label.fitted:hover label.sk-toggleable__label.fitted {\n",
       "  color: var(--sklearn-color-text);\n",
       "  background-color: var(--sklearn-color-fitted-level-2);\n",
       "}\n",
       "\n",
       "/* Estimator label */\n",
       "\n",
       "#sk-container-id-2 div.sk-label label {\n",
       "  font-family: monospace;\n",
       "  font-weight: bold;\n",
       "  display: inline-block;\n",
       "  line-height: 1.2em;\n",
       "}\n",
       "\n",
       "#sk-container-id-2 div.sk-label-container {\n",
       "  text-align: center;\n",
       "}\n",
       "\n",
       "/* Estimator-specific */\n",
       "#sk-container-id-2 div.sk-estimator {\n",
       "  font-family: monospace;\n",
       "  border: 1px dotted var(--sklearn-color-border-box);\n",
       "  border-radius: 0.25em;\n",
       "  box-sizing: border-box;\n",
       "  margin-bottom: 0.5em;\n",
       "  /* unfitted */\n",
       "  background-color: var(--sklearn-color-unfitted-level-0);\n",
       "}\n",
       "\n",
       "#sk-container-id-2 div.sk-estimator.fitted {\n",
       "  /* fitted */\n",
       "  background-color: var(--sklearn-color-fitted-level-0);\n",
       "}\n",
       "\n",
       "/* on hover */\n",
       "#sk-container-id-2 div.sk-estimator:hover {\n",
       "  /* unfitted */\n",
       "  background-color: var(--sklearn-color-unfitted-level-2);\n",
       "}\n",
       "\n",
       "#sk-container-id-2 div.sk-estimator.fitted:hover {\n",
       "  /* fitted */\n",
       "  background-color: var(--sklearn-color-fitted-level-2);\n",
       "}\n",
       "\n",
       "/* Specification for estimator info (e.g. \"i\" and \"?\") */\n",
       "\n",
       "/* Common style for \"i\" and \"?\" */\n",
       "\n",
       ".sk-estimator-doc-link,\n",
       "a:link.sk-estimator-doc-link,\n",
       "a:visited.sk-estimator-doc-link {\n",
       "  float: right;\n",
       "  font-size: smaller;\n",
       "  line-height: 1em;\n",
       "  font-family: monospace;\n",
       "  background-color: var(--sklearn-color-background);\n",
       "  border-radius: 1em;\n",
       "  height: 1em;\n",
       "  width: 1em;\n",
       "  text-decoration: none !important;\n",
       "  margin-left: 1ex;\n",
       "  /* unfitted */\n",
       "  border: var(--sklearn-color-unfitted-level-1) 1pt solid;\n",
       "  color: var(--sklearn-color-unfitted-level-1);\n",
       "}\n",
       "\n",
       ".sk-estimator-doc-link.fitted,\n",
       "a:link.sk-estimator-doc-link.fitted,\n",
       "a:visited.sk-estimator-doc-link.fitted {\n",
       "  /* fitted */\n",
       "  border: var(--sklearn-color-fitted-level-1) 1pt solid;\n",
       "  color: var(--sklearn-color-fitted-level-1);\n",
       "}\n",
       "\n",
       "/* On hover */\n",
       "div.sk-estimator:hover .sk-estimator-doc-link:hover,\n",
       ".sk-estimator-doc-link:hover,\n",
       "div.sk-label-container:hover .sk-estimator-doc-link:hover,\n",
       ".sk-estimator-doc-link:hover {\n",
       "  /* unfitted */\n",
       "  background-color: var(--sklearn-color-unfitted-level-3);\n",
       "  color: var(--sklearn-color-background);\n",
       "  text-decoration: none;\n",
       "}\n",
       "\n",
       "div.sk-estimator.fitted:hover .sk-estimator-doc-link.fitted:hover,\n",
       ".sk-estimator-doc-link.fitted:hover,\n",
       "div.sk-label-container:hover .sk-estimator-doc-link.fitted:hover,\n",
       ".sk-estimator-doc-link.fitted:hover {\n",
       "  /* fitted */\n",
       "  background-color: var(--sklearn-color-fitted-level-3);\n",
       "  color: var(--sklearn-color-background);\n",
       "  text-decoration: none;\n",
       "}\n",
       "\n",
       "/* Span, style for the box shown on hovering the info icon */\n",
       ".sk-estimator-doc-link span {\n",
       "  display: none;\n",
       "  z-index: 9999;\n",
       "  position: relative;\n",
       "  font-weight: normal;\n",
       "  right: .2ex;\n",
       "  padding: .5ex;\n",
       "  margin: .5ex;\n",
       "  width: min-content;\n",
       "  min-width: 20ex;\n",
       "  max-width: 50ex;\n",
       "  color: var(--sklearn-color-text);\n",
       "  box-shadow: 2pt 2pt 4pt #999;\n",
       "  /* unfitted */\n",
       "  background: var(--sklearn-color-unfitted-level-0);\n",
       "  border: .5pt solid var(--sklearn-color-unfitted-level-3);\n",
       "}\n",
       "\n",
       ".sk-estimator-doc-link.fitted span {\n",
       "  /* fitted */\n",
       "  background: var(--sklearn-color-fitted-level-0);\n",
       "  border: var(--sklearn-color-fitted-level-3);\n",
       "}\n",
       "\n",
       ".sk-estimator-doc-link:hover span {\n",
       "  display: block;\n",
       "}\n",
       "\n",
       "/* \"?\"-specific style due to the `<a>` HTML tag */\n",
       "\n",
       "#sk-container-id-2 a.estimator_doc_link {\n",
       "  float: right;\n",
       "  font-size: 1rem;\n",
       "  line-height: 1em;\n",
       "  font-family: monospace;\n",
       "  background-color: var(--sklearn-color-background);\n",
       "  border-radius: 1rem;\n",
       "  height: 1rem;\n",
       "  width: 1rem;\n",
       "  text-decoration: none;\n",
       "  /* unfitted */\n",
       "  color: var(--sklearn-color-unfitted-level-1);\n",
       "  border: var(--sklearn-color-unfitted-level-1) 1pt solid;\n",
       "}\n",
       "\n",
       "#sk-container-id-2 a.estimator_doc_link.fitted {\n",
       "  /* fitted */\n",
       "  border: var(--sklearn-color-fitted-level-1) 1pt solid;\n",
       "  color: var(--sklearn-color-fitted-level-1);\n",
       "}\n",
       "\n",
       "/* On hover */\n",
       "#sk-container-id-2 a.estimator_doc_link:hover {\n",
       "  /* unfitted */\n",
       "  background-color: var(--sklearn-color-unfitted-level-3);\n",
       "  color: var(--sklearn-color-background);\n",
       "  text-decoration: none;\n",
       "}\n",
       "\n",
       "#sk-container-id-2 a.estimator_doc_link.fitted:hover {\n",
       "  /* fitted */\n",
       "  background-color: var(--sklearn-color-fitted-level-3);\n",
       "}\n",
       "</style><div id=\"sk-container-id-2\" class=\"sk-top-container\"><div class=\"sk-text-repr-fallback\"><pre>DecisionTreeRegressor()</pre><b>In a Jupyter environment, please rerun this cell to show the HTML representation or trust the notebook. <br />On GitHub, the HTML representation is unable to render, please try loading this page with nbviewer.org.</b></div><div class=\"sk-container\" hidden><div class=\"sk-item\"><div class=\"sk-estimator fitted sk-toggleable\"><input class=\"sk-toggleable__control sk-hidden--visually\" id=\"sk-estimator-id-2\" type=\"checkbox\" checked><label for=\"sk-estimator-id-2\" class=\"sk-toggleable__label fitted sk-toggleable__label-arrow fitted\">&nbsp;&nbsp;DecisionTreeRegressor<a class=\"sk-estimator-doc-link fitted\" rel=\"noreferrer\" target=\"_blank\" href=\"https://scikit-learn.org/1.4/modules/generated/sklearn.tree.DecisionTreeRegressor.html\">?<span>Documentation for DecisionTreeRegressor</span></a><span class=\"sk-estimator-doc-link fitted\">i<span>Fitted</span></span></label><div class=\"sk-toggleable__content fitted\"><pre>DecisionTreeRegressor()</pre></div> </div></div></div></div>"
      ],
      "text/plain": [
       "DecisionTreeRegressor()"
      ]
     },
     "execution_count": 70,
     "metadata": {},
     "output_type": "execute_result"
    }
   ],
   "source": [
    "# Initialize and train the Decision Tree Regressor model\n",
    "model = DecisionTreeRegressor()\n",
    "model.fit(X_train, y_train)"
   ]
  },
  {
   "cell_type": "code",
   "execution_count": 71,
   "id": "b4ac7b9e",
   "metadata": {},
   "outputs": [],
   "source": [
    "# Make predictions on the test set\n",
    "y_pred = model.predict(X_test)"
   ]
  },
  {
   "cell_type": "code",
   "execution_count": 72,
   "id": "ef3e4836",
   "metadata": {},
   "outputs": [],
   "source": [
    "# Evaluate the model\n",
    "dt_mse_1 = mean_squared_error(y_test, y_pred)\n",
    "dt_r2_2 = r2_score(y_test, y_pred)"
   ]
  },
  {
   "cell_type": "code",
   "execution_count": 73,
   "id": "92a88d4e",
   "metadata": {},
   "outputs": [
    {
     "name": "stdout",
     "output_type": "stream",
     "text": [
      "Mean Squared Error: 7832423500531.816\n",
      "R-squared: 0.5072331069553495\n"
     ]
    }
   ],
   "source": [
    "# Display the results\n",
    "print(\"Mean Squared Error:\", dt_mse_1)\n",
    "print(\"R-squared:\", dt_r2_2)"
   ]
  },
  {
   "cell_type": "code",
   "execution_count": 74,
   "id": "26b824e3",
   "metadata": {},
   "outputs": [],
   "source": [
    "from sklearn.ensemble import RandomForestRegressor\n",
    "X = data[['like_count', 'comment_count']]  # Assuming these are the features you want to use\n",
    "y = data['view_count']\n",
    "X_train, X_test, y_train, y_test = train_test_split(X, y, test_size=0.2, random_state=42)"
   ]
  },
  {
   "cell_type": "code",
   "execution_count": 75,
   "id": "99b19103",
   "metadata": {},
   "outputs": [
    {
     "data": {
      "text/html": [
       "<style>#sk-container-id-3 {\n",
       "  /* Definition of color scheme common for light and dark mode */\n",
       "  --sklearn-color-text: black;\n",
       "  --sklearn-color-line: gray;\n",
       "  /* Definition of color scheme for unfitted estimators */\n",
       "  --sklearn-color-unfitted-level-0: #fff5e6;\n",
       "  --sklearn-color-unfitted-level-1: #f6e4d2;\n",
       "  --sklearn-color-unfitted-level-2: #ffe0b3;\n",
       "  --sklearn-color-unfitted-level-3: chocolate;\n",
       "  /* Definition of color scheme for fitted estimators */\n",
       "  --sklearn-color-fitted-level-0: #f0f8ff;\n",
       "  --sklearn-color-fitted-level-1: #d4ebff;\n",
       "  --sklearn-color-fitted-level-2: #b3dbfd;\n",
       "  --sklearn-color-fitted-level-3: cornflowerblue;\n",
       "\n",
       "  /* Specific color for light theme */\n",
       "  --sklearn-color-text-on-default-background: var(--sg-text-color, var(--theme-code-foreground, var(--jp-content-font-color1, black)));\n",
       "  --sklearn-color-background: var(--sg-background-color, var(--theme-background, var(--jp-layout-color0, white)));\n",
       "  --sklearn-color-border-box: var(--sg-text-color, var(--theme-code-foreground, var(--jp-content-font-color1, black)));\n",
       "  --sklearn-color-icon: #696969;\n",
       "\n",
       "  @media (prefers-color-scheme: dark) {\n",
       "    /* Redefinition of color scheme for dark theme */\n",
       "    --sklearn-color-text-on-default-background: var(--sg-text-color, var(--theme-code-foreground, var(--jp-content-font-color1, white)));\n",
       "    --sklearn-color-background: var(--sg-background-color, var(--theme-background, var(--jp-layout-color0, #111)));\n",
       "    --sklearn-color-border-box: var(--sg-text-color, var(--theme-code-foreground, var(--jp-content-font-color1, white)));\n",
       "    --sklearn-color-icon: #878787;\n",
       "  }\n",
       "}\n",
       "\n",
       "#sk-container-id-3 {\n",
       "  color: var(--sklearn-color-text);\n",
       "}\n",
       "\n",
       "#sk-container-id-3 pre {\n",
       "  padding: 0;\n",
       "}\n",
       "\n",
       "#sk-container-id-3 input.sk-hidden--visually {\n",
       "  border: 0;\n",
       "  clip: rect(1px 1px 1px 1px);\n",
       "  clip: rect(1px, 1px, 1px, 1px);\n",
       "  height: 1px;\n",
       "  margin: -1px;\n",
       "  overflow: hidden;\n",
       "  padding: 0;\n",
       "  position: absolute;\n",
       "  width: 1px;\n",
       "}\n",
       "\n",
       "#sk-container-id-3 div.sk-dashed-wrapped {\n",
       "  border: 1px dashed var(--sklearn-color-line);\n",
       "  margin: 0 0.4em 0.5em 0.4em;\n",
       "  box-sizing: border-box;\n",
       "  padding-bottom: 0.4em;\n",
       "  background-color: var(--sklearn-color-background);\n",
       "}\n",
       "\n",
       "#sk-container-id-3 div.sk-container {\n",
       "  /* jupyter's `normalize.less` sets `[hidden] { display: none; }`\n",
       "     but bootstrap.min.css set `[hidden] { display: none !important; }`\n",
       "     so we also need the `!important` here to be able to override the\n",
       "     default hidden behavior on the sphinx rendered scikit-learn.org.\n",
       "     See: https://github.com/scikit-learn/scikit-learn/issues/21755 */\n",
       "  display: inline-block !important;\n",
       "  position: relative;\n",
       "}\n",
       "\n",
       "#sk-container-id-3 div.sk-text-repr-fallback {\n",
       "  display: none;\n",
       "}\n",
       "\n",
       "div.sk-parallel-item,\n",
       "div.sk-serial,\n",
       "div.sk-item {\n",
       "  /* draw centered vertical line to link estimators */\n",
       "  background-image: linear-gradient(var(--sklearn-color-text-on-default-background), var(--sklearn-color-text-on-default-background));\n",
       "  background-size: 2px 100%;\n",
       "  background-repeat: no-repeat;\n",
       "  background-position: center center;\n",
       "}\n",
       "\n",
       "/* Parallel-specific style estimator block */\n",
       "\n",
       "#sk-container-id-3 div.sk-parallel-item::after {\n",
       "  content: \"\";\n",
       "  width: 100%;\n",
       "  border-bottom: 2px solid var(--sklearn-color-text-on-default-background);\n",
       "  flex-grow: 1;\n",
       "}\n",
       "\n",
       "#sk-container-id-3 div.sk-parallel {\n",
       "  display: flex;\n",
       "  align-items: stretch;\n",
       "  justify-content: center;\n",
       "  background-color: var(--sklearn-color-background);\n",
       "  position: relative;\n",
       "}\n",
       "\n",
       "#sk-container-id-3 div.sk-parallel-item {\n",
       "  display: flex;\n",
       "  flex-direction: column;\n",
       "}\n",
       "\n",
       "#sk-container-id-3 div.sk-parallel-item:first-child::after {\n",
       "  align-self: flex-end;\n",
       "  width: 50%;\n",
       "}\n",
       "\n",
       "#sk-container-id-3 div.sk-parallel-item:last-child::after {\n",
       "  align-self: flex-start;\n",
       "  width: 50%;\n",
       "}\n",
       "\n",
       "#sk-container-id-3 div.sk-parallel-item:only-child::after {\n",
       "  width: 0;\n",
       "}\n",
       "\n",
       "/* Serial-specific style estimator block */\n",
       "\n",
       "#sk-container-id-3 div.sk-serial {\n",
       "  display: flex;\n",
       "  flex-direction: column;\n",
       "  align-items: center;\n",
       "  background-color: var(--sklearn-color-background);\n",
       "  padding-right: 1em;\n",
       "  padding-left: 1em;\n",
       "}\n",
       "\n",
       "\n",
       "/* Toggleable style: style used for estimator/Pipeline/ColumnTransformer box that is\n",
       "clickable and can be expanded/collapsed.\n",
       "- Pipeline and ColumnTransformer use this feature and define the default style\n",
       "- Estimators will overwrite some part of the style using the `sk-estimator` class\n",
       "*/\n",
       "\n",
       "/* Pipeline and ColumnTransformer style (default) */\n",
       "\n",
       "#sk-container-id-3 div.sk-toggleable {\n",
       "  /* Default theme specific background. It is overwritten whether we have a\n",
       "  specific estimator or a Pipeline/ColumnTransformer */\n",
       "  background-color: var(--sklearn-color-background);\n",
       "}\n",
       "\n",
       "/* Toggleable label */\n",
       "#sk-container-id-3 label.sk-toggleable__label {\n",
       "  cursor: pointer;\n",
       "  display: block;\n",
       "  width: 100%;\n",
       "  margin-bottom: 0;\n",
       "  padding: 0.5em;\n",
       "  box-sizing: border-box;\n",
       "  text-align: center;\n",
       "}\n",
       "\n",
       "#sk-container-id-3 label.sk-toggleable__label-arrow:before {\n",
       "  /* Arrow on the left of the label */\n",
       "  content: \"▸\";\n",
       "  float: left;\n",
       "  margin-right: 0.25em;\n",
       "  color: var(--sklearn-color-icon);\n",
       "}\n",
       "\n",
       "#sk-container-id-3 label.sk-toggleable__label-arrow:hover:before {\n",
       "  color: var(--sklearn-color-text);\n",
       "}\n",
       "\n",
       "/* Toggleable content - dropdown */\n",
       "\n",
       "#sk-container-id-3 div.sk-toggleable__content {\n",
       "  max-height: 0;\n",
       "  max-width: 0;\n",
       "  overflow: hidden;\n",
       "  text-align: left;\n",
       "  /* unfitted */\n",
       "  background-color: var(--sklearn-color-unfitted-level-0);\n",
       "}\n",
       "\n",
       "#sk-container-id-3 div.sk-toggleable__content.fitted {\n",
       "  /* fitted */\n",
       "  background-color: var(--sklearn-color-fitted-level-0);\n",
       "}\n",
       "\n",
       "#sk-container-id-3 div.sk-toggleable__content pre {\n",
       "  margin: 0.2em;\n",
       "  border-radius: 0.25em;\n",
       "  color: var(--sklearn-color-text);\n",
       "  /* unfitted */\n",
       "  background-color: var(--sklearn-color-unfitted-level-0);\n",
       "}\n",
       "\n",
       "#sk-container-id-3 div.sk-toggleable__content.fitted pre {\n",
       "  /* unfitted */\n",
       "  background-color: var(--sklearn-color-fitted-level-0);\n",
       "}\n",
       "\n",
       "#sk-container-id-3 input.sk-toggleable__control:checked~div.sk-toggleable__content {\n",
       "  /* Expand drop-down */\n",
       "  max-height: 200px;\n",
       "  max-width: 100%;\n",
       "  overflow: auto;\n",
       "}\n",
       "\n",
       "#sk-container-id-3 input.sk-toggleable__control:checked~label.sk-toggleable__label-arrow:before {\n",
       "  content: \"▾\";\n",
       "}\n",
       "\n",
       "/* Pipeline/ColumnTransformer-specific style */\n",
       "\n",
       "#sk-container-id-3 div.sk-label input.sk-toggleable__control:checked~label.sk-toggleable__label {\n",
       "  color: var(--sklearn-color-text);\n",
       "  background-color: var(--sklearn-color-unfitted-level-2);\n",
       "}\n",
       "\n",
       "#sk-container-id-3 div.sk-label.fitted input.sk-toggleable__control:checked~label.sk-toggleable__label {\n",
       "  background-color: var(--sklearn-color-fitted-level-2);\n",
       "}\n",
       "\n",
       "/* Estimator-specific style */\n",
       "\n",
       "/* Colorize estimator box */\n",
       "#sk-container-id-3 div.sk-estimator input.sk-toggleable__control:checked~label.sk-toggleable__label {\n",
       "  /* unfitted */\n",
       "  background-color: var(--sklearn-color-unfitted-level-2);\n",
       "}\n",
       "\n",
       "#sk-container-id-3 div.sk-estimator.fitted input.sk-toggleable__control:checked~label.sk-toggleable__label {\n",
       "  /* fitted */\n",
       "  background-color: var(--sklearn-color-fitted-level-2);\n",
       "}\n",
       "\n",
       "#sk-container-id-3 div.sk-label label.sk-toggleable__label,\n",
       "#sk-container-id-3 div.sk-label label {\n",
       "  /* The background is the default theme color */\n",
       "  color: var(--sklearn-color-text-on-default-background);\n",
       "}\n",
       "\n",
       "/* On hover, darken the color of the background */\n",
       "#sk-container-id-3 div.sk-label:hover label.sk-toggleable__label {\n",
       "  color: var(--sklearn-color-text);\n",
       "  background-color: var(--sklearn-color-unfitted-level-2);\n",
       "}\n",
       "\n",
       "/* Label box, darken color on hover, fitted */\n",
       "#sk-container-id-3 div.sk-label.fitted:hover label.sk-toggleable__label.fitted {\n",
       "  color: var(--sklearn-color-text);\n",
       "  background-color: var(--sklearn-color-fitted-level-2);\n",
       "}\n",
       "\n",
       "/* Estimator label */\n",
       "\n",
       "#sk-container-id-3 div.sk-label label {\n",
       "  font-family: monospace;\n",
       "  font-weight: bold;\n",
       "  display: inline-block;\n",
       "  line-height: 1.2em;\n",
       "}\n",
       "\n",
       "#sk-container-id-3 div.sk-label-container {\n",
       "  text-align: center;\n",
       "}\n",
       "\n",
       "/* Estimator-specific */\n",
       "#sk-container-id-3 div.sk-estimator {\n",
       "  font-family: monospace;\n",
       "  border: 1px dotted var(--sklearn-color-border-box);\n",
       "  border-radius: 0.25em;\n",
       "  box-sizing: border-box;\n",
       "  margin-bottom: 0.5em;\n",
       "  /* unfitted */\n",
       "  background-color: var(--sklearn-color-unfitted-level-0);\n",
       "}\n",
       "\n",
       "#sk-container-id-3 div.sk-estimator.fitted {\n",
       "  /* fitted */\n",
       "  background-color: var(--sklearn-color-fitted-level-0);\n",
       "}\n",
       "\n",
       "/* on hover */\n",
       "#sk-container-id-3 div.sk-estimator:hover {\n",
       "  /* unfitted */\n",
       "  background-color: var(--sklearn-color-unfitted-level-2);\n",
       "}\n",
       "\n",
       "#sk-container-id-3 div.sk-estimator.fitted:hover {\n",
       "  /* fitted */\n",
       "  background-color: var(--sklearn-color-fitted-level-2);\n",
       "}\n",
       "\n",
       "/* Specification for estimator info (e.g. \"i\" and \"?\") */\n",
       "\n",
       "/* Common style for \"i\" and \"?\" */\n",
       "\n",
       ".sk-estimator-doc-link,\n",
       "a:link.sk-estimator-doc-link,\n",
       "a:visited.sk-estimator-doc-link {\n",
       "  float: right;\n",
       "  font-size: smaller;\n",
       "  line-height: 1em;\n",
       "  font-family: monospace;\n",
       "  background-color: var(--sklearn-color-background);\n",
       "  border-radius: 1em;\n",
       "  height: 1em;\n",
       "  width: 1em;\n",
       "  text-decoration: none !important;\n",
       "  margin-left: 1ex;\n",
       "  /* unfitted */\n",
       "  border: var(--sklearn-color-unfitted-level-1) 1pt solid;\n",
       "  color: var(--sklearn-color-unfitted-level-1);\n",
       "}\n",
       "\n",
       ".sk-estimator-doc-link.fitted,\n",
       "a:link.sk-estimator-doc-link.fitted,\n",
       "a:visited.sk-estimator-doc-link.fitted {\n",
       "  /* fitted */\n",
       "  border: var(--sklearn-color-fitted-level-1) 1pt solid;\n",
       "  color: var(--sklearn-color-fitted-level-1);\n",
       "}\n",
       "\n",
       "/* On hover */\n",
       "div.sk-estimator:hover .sk-estimator-doc-link:hover,\n",
       ".sk-estimator-doc-link:hover,\n",
       "div.sk-label-container:hover .sk-estimator-doc-link:hover,\n",
       ".sk-estimator-doc-link:hover {\n",
       "  /* unfitted */\n",
       "  background-color: var(--sklearn-color-unfitted-level-3);\n",
       "  color: var(--sklearn-color-background);\n",
       "  text-decoration: none;\n",
       "}\n",
       "\n",
       "div.sk-estimator.fitted:hover .sk-estimator-doc-link.fitted:hover,\n",
       ".sk-estimator-doc-link.fitted:hover,\n",
       "div.sk-label-container:hover .sk-estimator-doc-link.fitted:hover,\n",
       ".sk-estimator-doc-link.fitted:hover {\n",
       "  /* fitted */\n",
       "  background-color: var(--sklearn-color-fitted-level-3);\n",
       "  color: var(--sklearn-color-background);\n",
       "  text-decoration: none;\n",
       "}\n",
       "\n",
       "/* Span, style for the box shown on hovering the info icon */\n",
       ".sk-estimator-doc-link span {\n",
       "  display: none;\n",
       "  z-index: 9999;\n",
       "  position: relative;\n",
       "  font-weight: normal;\n",
       "  right: .2ex;\n",
       "  padding: .5ex;\n",
       "  margin: .5ex;\n",
       "  width: min-content;\n",
       "  min-width: 20ex;\n",
       "  max-width: 50ex;\n",
       "  color: var(--sklearn-color-text);\n",
       "  box-shadow: 2pt 2pt 4pt #999;\n",
       "  /* unfitted */\n",
       "  background: var(--sklearn-color-unfitted-level-0);\n",
       "  border: .5pt solid var(--sklearn-color-unfitted-level-3);\n",
       "}\n",
       "\n",
       ".sk-estimator-doc-link.fitted span {\n",
       "  /* fitted */\n",
       "  background: var(--sklearn-color-fitted-level-0);\n",
       "  border: var(--sklearn-color-fitted-level-3);\n",
       "}\n",
       "\n",
       ".sk-estimator-doc-link:hover span {\n",
       "  display: block;\n",
       "}\n",
       "\n",
       "/* \"?\"-specific style due to the `<a>` HTML tag */\n",
       "\n",
       "#sk-container-id-3 a.estimator_doc_link {\n",
       "  float: right;\n",
       "  font-size: 1rem;\n",
       "  line-height: 1em;\n",
       "  font-family: monospace;\n",
       "  background-color: var(--sklearn-color-background);\n",
       "  border-radius: 1rem;\n",
       "  height: 1rem;\n",
       "  width: 1rem;\n",
       "  text-decoration: none;\n",
       "  /* unfitted */\n",
       "  color: var(--sklearn-color-unfitted-level-1);\n",
       "  border: var(--sklearn-color-unfitted-level-1) 1pt solid;\n",
       "}\n",
       "\n",
       "#sk-container-id-3 a.estimator_doc_link.fitted {\n",
       "  /* fitted */\n",
       "  border: var(--sklearn-color-fitted-level-1) 1pt solid;\n",
       "  color: var(--sklearn-color-fitted-level-1);\n",
       "}\n",
       "\n",
       "/* On hover */\n",
       "#sk-container-id-3 a.estimator_doc_link:hover {\n",
       "  /* unfitted */\n",
       "  background-color: var(--sklearn-color-unfitted-level-3);\n",
       "  color: var(--sklearn-color-background);\n",
       "  text-decoration: none;\n",
       "}\n",
       "\n",
       "#sk-container-id-3 a.estimator_doc_link.fitted:hover {\n",
       "  /* fitted */\n",
       "  background-color: var(--sklearn-color-fitted-level-3);\n",
       "}\n",
       "</style><div id=\"sk-container-id-3\" class=\"sk-top-container\"><div class=\"sk-text-repr-fallback\"><pre>RandomForestRegressor(max_depth=2, random_state=100)</pre><b>In a Jupyter environment, please rerun this cell to show the HTML representation or trust the notebook. <br />On GitHub, the HTML representation is unable to render, please try loading this page with nbviewer.org.</b></div><div class=\"sk-container\" hidden><div class=\"sk-item\"><div class=\"sk-estimator fitted sk-toggleable\"><input class=\"sk-toggleable__control sk-hidden--visually\" id=\"sk-estimator-id-3\" type=\"checkbox\" checked><label for=\"sk-estimator-id-3\" class=\"sk-toggleable__label fitted sk-toggleable__label-arrow fitted\">&nbsp;&nbsp;RandomForestRegressor<a class=\"sk-estimator-doc-link fitted\" rel=\"noreferrer\" target=\"_blank\" href=\"https://scikit-learn.org/1.4/modules/generated/sklearn.ensemble.RandomForestRegressor.html\">?<span>Documentation for RandomForestRegressor</span></a><span class=\"sk-estimator-doc-link fitted\">i<span>Fitted</span></span></label><div class=\"sk-toggleable__content fitted\"><pre>RandomForestRegressor(max_depth=2, random_state=100)</pre></div> </div></div></div></div>"
      ],
      "text/plain": [
       "RandomForestRegressor(max_depth=2, random_state=100)"
      ]
     },
     "execution_count": 75,
     "metadata": {},
     "output_type": "execute_result"
    }
   ],
   "source": [
    "# Initialize and train the RandomForestRegressor model\n",
    "model = RandomForestRegressor(max_depth=2, random_state=100)\n",
    "model.fit(X_train, y_train)\n"
   ]
  },
  {
   "cell_type": "code",
   "execution_count": 76,
   "id": "4df6f62f",
   "metadata": {},
   "outputs": [],
   "source": [
    "# Make predictions on the test set\n",
    "y_pred = model.predict(X_test)"
   ]
  },
  {
   "cell_type": "code",
   "execution_count": 77,
   "id": "9d35ddb3",
   "metadata": {
    "scrolled": true
   },
   "outputs": [
    {
     "name": "stdout",
     "output_type": "stream",
     "text": [
      "Mean Squared Error: 3489209242823.226\n",
      "R-squared: 0.7804808693437051\n"
     ]
    }
   ],
   "source": [
    "# Evaluate the model\n",
    "mse = mean_squared_error(y_test, y_pred)\n",
    "r2 = r2_score(y_test, y_pred)\n",
    "\n",
    "# Display the results\n",
    "print(\"Mean Squared Error:\", mse)\n",
    "print(\"R-squared:\", r2) "
   ]
  },
  {
   "cell_type": "markdown",
   "id": "6ea5cbcc",
   "metadata": {},
   "source": [
    "##  Comparison  "
   ]
  },
  {
   "cell_type": "code",
   "execution_count": 78,
   "id": "6333eb69",
   "metadata": {},
   "outputs": [
    {
     "data": {
      "text/html": [
       "<div>\n",
       "<style scoped>\n",
       "    .dataframe tbody tr th:only-of-type {\n",
       "        vertical-align: middle;\n",
       "    }\n",
       "\n",
       "    .dataframe tbody tr th {\n",
       "        vertical-align: top;\n",
       "    }\n",
       "\n",
       "    .dataframe thead th {\n",
       "        text-align: right;\n",
       "    }\n",
       "</style>\n",
       "<table border=\"1\" class=\"dataframe\">\n",
       "  <thead>\n",
       "    <tr style=\"text-align: right;\">\n",
       "      <th></th>\n",
       "      <th>Method</th>\n",
       "      <th>Training R2</th>\n",
       "      <th>Test R2</th>\n",
       "    </tr>\n",
       "  </thead>\n",
       "  <tbody>\n",
       "    <tr>\n",
       "      <th>0</th>\n",
       "      <td>Linear Regression</td>\n",
       "      <td>4635725727334.291016</td>\n",
       "      <td>0.708349</td>\n",
       "    </tr>\n",
       "  </tbody>\n",
       "</table>\n",
       "</div>"
      ],
      "text/plain": [
       "              Method           Training R2   Test R2\n",
       "0  Linear Regression  4635725727334.291016  0.708349"
      ]
     },
     "execution_count": 78,
     "metadata": {},
     "output_type": "execute_result"
    }
   ],
   "source": [
    "# Linear Regrission \n",
    "lr_results=pd.DataFrame(['Linear Regression', lr_mse,lr_r2]).transpose()\n",
    "lr_results.columns=['Method',  'Training R2',  'Test R2']\n",
    "lr_results"
   ]
  },
  {
   "cell_type": "code",
   "execution_count": 79,
   "id": "26d369fa",
   "metadata": {},
   "outputs": [
    {
     "data": {
      "text/html": [
       "<div>\n",
       "<style scoped>\n",
       "    .dataframe tbody tr th:only-of-type {\n",
       "        vertical-align: middle;\n",
       "    }\n",
       "\n",
       "    .dataframe tbody tr th {\n",
       "        vertical-align: top;\n",
       "    }\n",
       "\n",
       "    .dataframe thead th {\n",
       "        text-align: right;\n",
       "    }\n",
       "</style>\n",
       "<table border=\"1\" class=\"dataframe\">\n",
       "  <thead>\n",
       "    <tr style=\"text-align: right;\">\n",
       "      <th></th>\n",
       "      <th>Method</th>\n",
       "      <th>Training R2</th>\n",
       "      <th>Test R2</th>\n",
       "    </tr>\n",
       "  </thead>\n",
       "  <tbody>\n",
       "    <tr>\n",
       "      <th>0</th>\n",
       "      <td>Random Forest</td>\n",
       "      <td>3489209242823.226074</td>\n",
       "      <td>0.780481</td>\n",
       "    </tr>\n",
       "  </tbody>\n",
       "</table>\n",
       "</div>"
      ],
      "text/plain": [
       "          Method           Training R2   Test R2\n",
       "0  Random Forest  3489209242823.226074  0.780481"
      ]
     },
     "execution_count": 79,
     "metadata": {},
     "output_type": "execute_result"
    }
   ],
   "source": [
    "# Randome Forest\n",
    "rf_result=pd.DataFrame(['Random Forest', mse,r2]).transpose()\n",
    "rf_result.columns=['Method',  'Training R2',  'Test R2']\n",
    "rf_result"
   ]
  },
  {
   "cell_type": "code",
   "execution_count": 80,
   "id": "e47e0ae9",
   "metadata": {},
   "outputs": [
    {
     "data": {
      "text/html": [
       "<div>\n",
       "<style scoped>\n",
       "    .dataframe tbody tr th:only-of-type {\n",
       "        vertical-align: middle;\n",
       "    }\n",
       "\n",
       "    .dataframe tbody tr th {\n",
       "        vertical-align: top;\n",
       "    }\n",
       "\n",
       "    .dataframe thead th {\n",
       "        text-align: right;\n",
       "    }\n",
       "</style>\n",
       "<table border=\"1\" class=\"dataframe\">\n",
       "  <thead>\n",
       "    <tr style=\"text-align: right;\">\n",
       "      <th></th>\n",
       "      <th>Method</th>\n",
       "      <th>Training R2</th>\n",
       "      <th>Test R2</th>\n",
       "    </tr>\n",
       "  </thead>\n",
       "  <tbody>\n",
       "    <tr>\n",
       "      <th>0</th>\n",
       "      <td>Decsion Tree</td>\n",
       "      <td>7832423500531.816406</td>\n",
       "      <td>0.507233</td>\n",
       "    </tr>\n",
       "  </tbody>\n",
       "</table>\n",
       "</div>"
      ],
      "text/plain": [
       "         Method           Training R2   Test R2\n",
       "0  Decsion Tree  7832423500531.816406  0.507233"
      ]
     },
     "execution_count": 80,
     "metadata": {},
     "output_type": "execute_result"
    }
   ],
   "source": [
    "# Randome Forest\n",
    "dt_result=pd.DataFrame(['Decsion Tree', dt_mse_1,dt_r2_2]).transpose()\n",
    "dt_result.columns=['Method',  'Training R2',  'Test R2']\n",
    "dt_result"
   ]
  },
  {
   "cell_type": "code",
   "execution_count": 81,
   "id": "5ab9255c",
   "metadata": {},
   "outputs": [
    {
     "data": {
      "text/html": [
       "<div>\n",
       "<style scoped>\n",
       "    .dataframe tbody tr th:only-of-type {\n",
       "        vertical-align: middle;\n",
       "    }\n",
       "\n",
       "    .dataframe tbody tr th {\n",
       "        vertical-align: top;\n",
       "    }\n",
       "\n",
       "    .dataframe thead th {\n",
       "        text-align: right;\n",
       "    }\n",
       "</style>\n",
       "<table border=\"1\" class=\"dataframe\">\n",
       "  <thead>\n",
       "    <tr style=\"text-align: right;\">\n",
       "      <th></th>\n",
       "      <th>Method</th>\n",
       "      <th>Training R2</th>\n",
       "      <th>Test R2</th>\n",
       "    </tr>\n",
       "  </thead>\n",
       "  <tbody>\n",
       "    <tr>\n",
       "      <th>0</th>\n",
       "      <td>Linear Regression</td>\n",
       "      <td>4635725727334.291016</td>\n",
       "      <td>0.708349</td>\n",
       "    </tr>\n",
       "    <tr>\n",
       "      <th>0</th>\n",
       "      <td>Random Forest</td>\n",
       "      <td>3489209242823.226074</td>\n",
       "      <td>0.780481</td>\n",
       "    </tr>\n",
       "    <tr>\n",
       "      <th>0</th>\n",
       "      <td>Decsion Tree</td>\n",
       "      <td>7832423500531.816406</td>\n",
       "      <td>0.507233</td>\n",
       "    </tr>\n",
       "  </tbody>\n",
       "</table>\n",
       "</div>"
      ],
      "text/plain": [
       "              Method           Training R2   Test R2\n",
       "0  Linear Regression  4635725727334.291016  0.708349\n",
       "0      Random Forest  3489209242823.226074  0.780481\n",
       "0       Decsion Tree  7832423500531.816406  0.507233"
      ]
     },
     "execution_count": 81,
     "metadata": {},
     "output_type": "execute_result"
    }
   ],
   "source": [
    "df_models=pd.concat([lr_results, rf_result, dt_result ], axis=0)\n",
    "df_models"
   ]
  },
  {
   "cell_type": "code",
   "execution_count": 82,
   "id": "7c5be5af",
   "metadata": {},
   "outputs": [],
   "source": [
    "# Create a DataFrame with R-squared scores\n",
    "data = {\n",
    "    'Method': ['Linear Regression', 'Random Forest', 'Decision Tree'],\n",
    "    'Test R2': [0.708349, 0.780481, 0.64386]\n",
    "}"
   ]
  },
  {
   "cell_type": "code",
   "execution_count": 83,
   "id": "178e5963",
   "metadata": {},
   "outputs": [
    {
     "data": {
      "text/plain": [
       "Text(0.5, 1.0, 'Comparison of R-squared Scores')"
      ]
     },
     "execution_count": 83,
     "metadata": {},
     "output_type": "execute_result"
    },
    {
     "data": {
      "image/png": "[encoded data removed]",
      "text/plain": [
       "<Figure size 800x600 with 1 Axes>"
      ]
     },
     "metadata": {},
     "output_type": "display_data"
    }
   ],
   "source": [
    "df = pd.DataFrame(data)\n",
    "# Plot the R-squared scores\n",
    "fig, ax = plt.subplots(figsize=(8, 6))\n",
    "df.plot(x='Method', y=[ 'Test R2'], kind='bar', ax=ax)\n",
    "ax.set_xticklabels(df['Method'], rotation=45)\n",
    "ax.set_ylabel('R-squared')\n",
    "ax.set_title('Comparison of R-squared Scores')"
   ]
  }
 ],
 "metadata": {
  "kernelspec": {
   "display_name": "Python 3 (ipykernel)",
   "language": "python",
   "name": "python3"
  },
  "language_info": {
   "codemirror_mode": {
    "name": "ipython",
    "version": 3
   },
   "file_extension": ".py",
   "mimetype": "text/x-python",
   "name": "python",
   "nbconvert_exporter": "python",
   "pygments_lexer": "ipython3",
   "version": "3.11.5"
  }
 },
 "nbformat": 4,
 "nbformat_minor": 5
}
